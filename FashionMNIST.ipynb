{
 "cells": [
  {
   "cell_type": "code",
   "execution_count": 1,
   "id": "ecdc99fe-b83d-47d7-ae30-26ccecbd2a1a",
   "metadata": {},
   "outputs": [],
   "source": [
    "import torchvision\n",
    "import torchvision.transforms as transforms\n",
    "import torch\n",
    "import torch.nn as nn\n",
    "import matplotlib.pyplot as plt\n",
    "import numpy as np\n",
    "import random\n",
    "from tqdm import tqdm\n",
    "train_set = torchvision.datasets.FashionMNIST(root = \".\", train=True,\n",
    "download=True, transform=transforms.ToTensor())\n",
    "test_set = torchvision.datasets.FashionMNIST(root = \".\", train=False,\n",
    "download=True, transform=transforms.ToTensor())\n",
    "\n",
    "train_loader = torch.utils.data.DataLoader(train_set, batch_size=32, shuffle=True)\n",
    "test_loader = torch.utils.data.DataLoader(test_set, batch_size=32, shuffle=False)\n",
    "\n",
    "# fixing the seed to reproduce outcomes\n",
    "torch.manual_seed(0)\n",
    "random.seed(0)\n",
    "np.random.seed(0)\n",
    "\n",
    "torch.cuda.manual_seed(0)\n",
    "torch.backends.cudnn.deterministic=True\n",
    "torch.backends.cudnn.benchmark=False"
   ]
  },
  {
   "cell_type": "code",
   "execution_count": 2,
   "id": "d2583ec4-f4c7-44f0-976b-283b115f272c",
   "metadata": {},
   "outputs": [
    {
     "name": "stdout",
     "output_type": "stream",
     "text": [
      "Label is: 3\n",
      "Dimension of input data: torch.Size([32, 1, 28, 28])\n",
      "Dimension of labels: torch.Size([32])\n"
     ]
    },
    {
     "data": {
      "image/png": "[encoded data removed]",
      "text/plain": [
       "<Figure size 640x480 with 1 Axes>"
      ]
     },
     "metadata": {},
     "output_type": "display_data"
    }
   ],
   "source": [
    "input_data, label = next(iter(train_loader))\n",
    "plt.imshow(input_data[3,:,:,:].numpy().reshape(28,28), cmap=\"gray_r\");\n",
    "print(\"Label is: {}\".format(label[0]))\n",
    "print(\"Dimension of input data: {}\".format(input_data.size()))\n",
    "print(\"Dimension of labels: {}\".format(label.size()))"
   ]
  },
  {
   "cell_type": "code",
   "execution_count": 3,
   "id": "06b7f648-5dda-4fb1-a625-3c135c9ca80d",
   "metadata": {},
   "outputs": [],
   "source": [
    "class MyCNN(nn.Module):\n",
    "  def __init__(self):\n",
    "    super(MyCNN, self).__init__()\n",
    "    \n",
    "    # Parameters used to input in first convolution layer are specified as follows\n",
    "    # 1: number of input channels (1 for the images of the FashionMNIST dataset)\n",
    "    # 2: number of output channels = 32\n",
    "    # 3: kernel dimensionality (5 as the kernel is 5x5)\n",
    "    # 4: stride dimensionality (1 as the stride is 1x1)\n",
    "    \n",
    "    # Using Relu as activation function as specified in the task\n",
    "    \n",
    "    # Parameters to input to nn.MaxPool2d as specified in the task\n",
    "    # 1: kernel dimensionality (2 as the kernel is 5x5)\n",
    "    # 2: stride dimensionality (2 as the stride is 2x2)\n",
    "    \n",
    "    # Parameters used to input in second convolution layer are specified as follows\n",
    "    # 1: the first input parameter specifies the number of output channels from the previous layer (i.e. 32)\n",
    "    # 2: number of output channels = 64\n",
    "    # 3: kernel dimensionality (5 as both the kernel is 5x5)\n",
    "    # 4: stride dimensionality (1 as both the stride is 1x1)    \n",
    "    \n",
    "    # Using the Sequential container to run layers sequentially\n",
    "    self.cnn_model = nn.Sequential(nn.Conv2d(1, 32, kernel_size = 5, stride=1), nn.ReLU(), nn.MaxPool2d(2, stride=2), nn.Conv2d(32, 64, kernel_size = 5, stride = 1), nn.ReLU(), nn.MaxPool2d(2, stride = 2))\n",
    "    \n",
    "    \n",
    "    # Parameters to input to First fully-connected layer\n",
    "    # 1: last output size of max pooling layer(i.e 1024)\n",
    "    # 2: output dimension = 1024\n",
    "    \n",
    "\n",
    "    # Parameters to input to Second fully-connected layer\n",
    "    # 1: output size of First fully-connected(i.e 1024)\n",
    "    # 2: output dimension = 256\n",
    "    \n",
    "    # Parameters to output layer \n",
    "    # 1:output size of First fully-connected(256)\n",
    "    # 2: output dimension = 10\n",
    " \n",
    "    \n",
    "    # using the Sequential container to run layers sequentially\n",
    "    self.fc_model = nn.Sequential(nn.Linear(1024, 1024), nn.ReLU(), nn.Linear(1024,256), nn.ReLU(), nn.Linear(256, 10))\n",
    " \n",
    "   \n",
    "  def forward(self, x):\n",
    "    \n",
    "    # pass input via the CNN layers\n",
    "    x = self.cnn_model(x)\n",
    "    # we reshape the tensor\n",
    "    # we keep the first dimension (batch_size)\n",
    "    # we let Pytorch compute the second dimension \n",
    "    # (-1 means compute this dimension given the others)\n",
    "    x =x.view(x.size(0), -1)\n",
    "    # pass input via the fully-connected layers\n",
    "    x = self.fc_model(x)\n",
    "    \n",
    "    return x"
   ]
  },
  {
   "cell_type": "code",
   "execution_count": 4,
   "id": "4345fc1e-9c60-4ce2-a415-4dd6dfe22ad0",
   "metadata": {},
   "outputs": [],
   "source": [
    "def evaluation(dataloader):\n",
    "  total, correct = 0,0\n",
    "  # turn on evaluate mode, this de-activates certain modes such as dropout\n",
    "\n",
    "  net.eval()\n",
    "  for data in dataloader:\n",
    "    \n",
    "    inputs, labels = data\n",
    "    inputs, labels = inputs.to(device), labels.to(device)\n",
    "    outputs = net(inputs)\n",
    "    # we take the index of the class that received the highest value  \n",
    "    # we take outputs.data so that no backpropagation is performed for these outputs\n",
    "    _, pred = torch.max(outputs.data, 1)\n",
    "    total += labels.size(0)\n",
    "    # .item() takes Python float values from the tensor\n",
    "    correct += (pred == labels).sum().item()\n",
    "  return 100 * correct / total"
   ]
  },
  {
   "cell_type": "code",
   "execution_count": 5,
   "id": "b94494f2-78a6-4839-a023-e82665d94f51",
   "metadata": {},
   "outputs": [],
   "source": [
    "def weights_init(m):\n",
    "    # initialise both linear and convolutional layers\n",
    "    if isinstance(m, nn.Linear) or isinstance(m, nn.Conv2d):\n",
    "        torch.nn.init.xavier_normal_(m.weight)"
   ]
  },
  {
   "cell_type": "code",
   "execution_count": 6,
   "id": "488796d4-a571-4ab6-9f37-4a8837b06650",
   "metadata": {},
   "outputs": [
    {
     "name": "stderr",
     "output_type": "stream",
     "text": [
      "100%|██████████| 1875/1875 [00:11<00:00, 158.95it/s]\n"
     ]
    },
    {
     "name": "stdout",
     "output_type": "stream",
     "text": [
      "Epoch 1: loss: 1025.6925526186824, train accuracy: 87.34833333333333, valid accuracy:86.14\n"
     ]
    },
    {
     "name": "stderr",
     "output_type": "stream",
     "text": [
      "100%|██████████| 1875/1875 [00:08<00:00, 210.22it/s]\n"
     ]
    },
    {
     "name": "stdout",
     "output_type": "stream",
     "text": [
      "Epoch 2: loss: 619.6894595362246, train accuracy: 89.855, valid accuracy:88.38\n"
     ]
    },
    {
     "name": "stderr",
     "output_type": "stream",
     "text": [
      "100%|██████████| 1875/1875 [00:08<00:00, 212.40it/s]\n"
     ]
    },
    {
     "name": "stdout",
     "output_type": "stream",
     "text": [
      "Epoch 3: loss: 528.0960752796382, train accuracy: 90.85, valid accuracy:89.07\n"
     ]
    },
    {
     "name": "stderr",
     "output_type": "stream",
     "text": [
      "100%|██████████| 1875/1875 [00:08<00:00, 210.28it/s]\n"
     ]
    },
    {
     "name": "stdout",
     "output_type": "stream",
     "text": [
      "Epoch 4: loss: 472.22957417182624, train accuracy: 91.70333333333333, valid accuracy:89.62\n"
     ]
    },
    {
     "name": "stderr",
     "output_type": "stream",
     "text": [
      "100%|██████████| 1875/1875 [00:08<00:00, 215.03it/s]\n"
     ]
    },
    {
     "name": "stdout",
     "output_type": "stream",
     "text": [
      "Epoch 5: loss: 425.2454704558477, train accuracy: 92.61333333333333, valid accuracy:90.47\n"
     ]
    },
    {
     "name": "stderr",
     "output_type": "stream",
     "text": [
      "100%|██████████| 1875/1875 [00:08<00:00, 210.67it/s]\n"
     ]
    },
    {
     "name": "stdout",
     "output_type": "stream",
     "text": [
      "Epoch 6: loss: 382.4407505784184, train accuracy: 93.71166666666667, valid accuracy:90.64\n"
     ]
    },
    {
     "name": "stderr",
     "output_type": "stream",
     "text": [
      "100%|██████████| 1875/1875 [00:09<00:00, 200.69it/s]\n"
     ]
    },
    {
     "name": "stdout",
     "output_type": "stream",
     "text": [
      "Epoch 7: loss: 344.5221441644244, train accuracy: 93.42333333333333, valid accuracy:89.62\n"
     ]
    },
    {
     "name": "stderr",
     "output_type": "stream",
     "text": [
      "100%|██████████| 1875/1875 [00:09<00:00, 203.84it/s]\n"
     ]
    },
    {
     "name": "stdout",
     "output_type": "stream",
     "text": [
      "Epoch 8: loss: 312.4847698388621, train accuracy: 94.65666666666667, valid accuracy:90.62\n"
     ]
    },
    {
     "name": "stderr",
     "output_type": "stream",
     "text": [
      "100%|██████████| 1875/1875 [00:09<00:00, 203.59it/s]\n"
     ]
    },
    {
     "name": "stdout",
     "output_type": "stream",
     "text": [
      "Epoch 9: loss: 281.2691122889519, train accuracy: 95.61666666666666, valid accuracy:91.03\n"
     ]
    },
    {
     "name": "stderr",
     "output_type": "stream",
     "text": [
      "100%|██████████| 1875/1875 [00:08<00:00, 208.75it/s]\n"
     ]
    },
    {
     "name": "stdout",
     "output_type": "stream",
     "text": [
      "Epoch 10: loss: 249.34835630934685, train accuracy: 95.865, valid accuracy:90.83\n"
     ]
    },
    {
     "name": "stderr",
     "output_type": "stream",
     "text": [
      "100%|██████████| 1875/1875 [00:08<00:00, 212.56it/s]\n"
     ]
    },
    {
     "name": "stdout",
     "output_type": "stream",
     "text": [
      "Epoch 11: loss: 226.96841353550553, train accuracy: 95.93166666666667, valid accuracy:90.59\n"
     ]
    },
    {
     "name": "stderr",
     "output_type": "stream",
     "text": [
      "100%|██████████| 1875/1875 [00:08<00:00, 223.60it/s]\n"
     ]
    },
    {
     "name": "stdout",
     "output_type": "stream",
     "text": [
      "Epoch 12: loss: 203.44685385306366, train accuracy: 96.83166666666666, valid accuracy:91.11\n"
     ]
    },
    {
     "name": "stderr",
     "output_type": "stream",
     "text": [
      "100%|██████████| 1875/1875 [00:08<00:00, 226.29it/s]\n"
     ]
    },
    {
     "name": "stdout",
     "output_type": "stream",
     "text": [
      "Epoch 13: loss: 183.17945109400898, train accuracy: 96.98833333333333, valid accuracy:90.99\n"
     ]
    },
    {
     "name": "stderr",
     "output_type": "stream",
     "text": [
      "100%|██████████| 1875/1875 [00:08<00:00, 222.47it/s]\n"
     ]
    },
    {
     "name": "stdout",
     "output_type": "stream",
     "text": [
      "Epoch 14: loss: 161.04493973241188, train accuracy: 96.97, valid accuracy:90.31\n"
     ]
    },
    {
     "name": "stderr",
     "output_type": "stream",
     "text": [
      "100%|██████████| 1875/1875 [00:08<00:00, 216.26it/s]\n"
     ]
    },
    {
     "name": "stdout",
     "output_type": "stream",
     "text": [
      "Epoch 15: loss: 150.0737136726966, train accuracy: 97.51666666666667, valid accuracy:91.0\n"
     ]
    },
    {
     "name": "stderr",
     "output_type": "stream",
     "text": [
      "100%|██████████| 1875/1875 [00:08<00:00, 220.82it/s]\n"
     ]
    },
    {
     "name": "stdout",
     "output_type": "stream",
     "text": [
      "Epoch 16: loss: 133.21120384868118, train accuracy: 97.715, valid accuracy:90.74\n"
     ]
    },
    {
     "name": "stderr",
     "output_type": "stream",
     "text": [
      "100%|██████████| 1875/1875 [00:09<00:00, 205.97it/s]\n"
     ]
    },
    {
     "name": "stdout",
     "output_type": "stream",
     "text": [
      "Epoch 17: loss: 125.66378437401727, train accuracy: 98.41, valid accuracy:91.27\n"
     ]
    },
    {
     "name": "stderr",
     "output_type": "stream",
     "text": [
      "100%|██████████| 1875/1875 [00:08<00:00, 219.57it/s]\n"
     ]
    },
    {
     "name": "stdout",
     "output_type": "stream",
     "text": [
      "Epoch 18: loss: 117.6397516191355, train accuracy: 98.04833333333333, valid accuracy:91.12\n"
     ]
    },
    {
     "name": "stderr",
     "output_type": "stream",
     "text": [
      "100%|██████████| 1875/1875 [00:08<00:00, 224.69it/s]\n"
     ]
    },
    {
     "name": "stdout",
     "output_type": "stream",
     "text": [
      "Epoch 19: loss: 113.87053819021821, train accuracy: 98.26, valid accuracy:90.75\n"
     ]
    },
    {
     "name": "stderr",
     "output_type": "stream",
     "text": [
      "100%|██████████| 1875/1875 [00:08<00:00, 222.08it/s]\n"
     ]
    },
    {
     "name": "stdout",
     "output_type": "stream",
     "text": [
      "Epoch 20: loss: 96.31247779359546, train accuracy: 97.76166666666667, valid accuracy:90.49\n"
     ]
    },
    {
     "name": "stderr",
     "output_type": "stream",
     "text": [
      "100%|██████████| 1875/1875 [00:08<00:00, 225.88it/s]\n"
     ]
    },
    {
     "name": "stdout",
     "output_type": "stream",
     "text": [
      "Epoch 21: loss: 95.88722333618352, train accuracy: 98.53833333333333, valid accuracy:90.72\n"
     ]
    },
    {
     "name": "stderr",
     "output_type": "stream",
     "text": [
      "100%|██████████| 1875/1875 [00:08<00:00, 224.34it/s]\n"
     ]
    },
    {
     "name": "stdout",
     "output_type": "stream",
     "text": [
      "Epoch 22: loss: 89.19845932254248, train accuracy: 98.58833333333334, valid accuracy:91.16\n"
     ]
    },
    {
     "name": "stderr",
     "output_type": "stream",
     "text": [
      "100%|██████████| 1875/1875 [00:08<00:00, 223.69it/s]\n"
     ]
    },
    {
     "name": "stdout",
     "output_type": "stream",
     "text": [
      "Epoch 23: loss: 86.69084064630806, train accuracy: 98.54, valid accuracy:90.94\n"
     ]
    },
    {
     "name": "stderr",
     "output_type": "stream",
     "text": [
      "100%|██████████| 1875/1875 [00:08<00:00, 225.81it/s]\n"
     ]
    },
    {
     "name": "stdout",
     "output_type": "stream",
     "text": [
      "Epoch 24: loss: 69.2925554135727, train accuracy: 99.25166666666667, valid accuracy:91.1\n"
     ]
    },
    {
     "name": "stderr",
     "output_type": "stream",
     "text": [
      "100%|██████████| 1875/1875 [00:09<00:00, 207.91it/s]\n"
     ]
    },
    {
     "name": "stdout",
     "output_type": "stream",
     "text": [
      "Epoch 25: loss: 66.32904085754308, train accuracy: 98.17, valid accuracy:90.26\n"
     ]
    },
    {
     "name": "stderr",
     "output_type": "stream",
     "text": [
      "100%|██████████| 1875/1875 [00:08<00:00, 211.59it/s]\n"
     ]
    },
    {
     "name": "stdout",
     "output_type": "stream",
     "text": [
      "Epoch 26: loss: 72.7324161692759, train accuracy: 98.57833333333333, valid accuracy:90.93\n"
     ]
    },
    {
     "name": "stderr",
     "output_type": "stream",
     "text": [
      "100%|██████████| 1875/1875 [00:08<00:00, 213.04it/s]\n"
     ]
    },
    {
     "name": "stdout",
     "output_type": "stream",
     "text": [
      "Epoch 27: loss: 61.33361843065177, train accuracy: 99.125, valid accuracy:90.73\n"
     ]
    },
    {
     "name": "stderr",
     "output_type": "stream",
     "text": [
      "100%|██████████| 1875/1875 [00:08<00:00, 216.41it/s]\n"
     ]
    },
    {
     "name": "stdout",
     "output_type": "stream",
     "text": [
      "Epoch 28: loss: 58.135852959652766, train accuracy: 99.13, valid accuracy:90.9\n"
     ]
    },
    {
     "name": "stderr",
     "output_type": "stream",
     "text": [
      "100%|██████████| 1875/1875 [00:08<00:00, 217.12it/s]\n"
     ]
    },
    {
     "name": "stdout",
     "output_type": "stream",
     "text": [
      "Epoch 29: loss: 51.64867698322905, train accuracy: 99.445, valid accuracy:91.44\n"
     ]
    },
    {
     "name": "stderr",
     "output_type": "stream",
     "text": [
      "100%|██████████| 1875/1875 [00:08<00:00, 212.73it/s]\n"
     ]
    },
    {
     "name": "stdout",
     "output_type": "stream",
     "text": [
      "Epoch 30: loss: 43.546225580092596, train accuracy: 99.55, valid accuracy:91.27\n"
     ]
    }
   ],
   "source": [
    "device = torch.device(\"cuda:0\")\n",
    "\n",
    "alpha = 0.1\n",
    "\n",
    "net = MyCNN().to(device)\n",
    "# initialise weights\n",
    "net.apply(weights_init)\n",
    "\n",
    "# Note: CrossEntropy loss is usually used for classification tasks\n",
    "# check slide 25 of Lecture 8.2\n",
    "loss_fn = nn.CrossEntropyLoss()\n",
    "loss_fn.to(device)\n",
    "\n",
    "# SGD optimiser, learning rate is specified by alpha\n",
    "opt = torch.optim.SGD(list(net.parameters()), lr=alpha)\n",
    "    \n",
    "loss_epoch_array = []\n",
    "max_epochs = 30\n",
    "loss_epoch = 0\n",
    "train_accuracy = []\n",
    "test_accuracy = []\n",
    "# loop over epochs\n",
    "for epoch in range(max_epochs):\n",
    "  # we will compute sum of batch losses per epoch\n",
    "  loss_epoch = 0\n",
    "  # loop over batches\n",
    "  for i, data in enumerate(tqdm(train_loader), 0):\n",
    "    # to ensure the training mode is \"turned on\"\n",
    "    net.train()\n",
    "    inputs, labels = data\n",
    "    inputs, labels = inputs.to(device), labels.to(device)\n",
    "    # zero the gradients\n",
    "    opt.zero_grad()\n",
    "    outputs = net(inputs)\n",
    "    # compute the loss\n",
    "    loss = loss_fn(outputs, labels)\n",
    "    # calculate the gradients\n",
    "    loss.backward()\n",
    "    # update the parameters using the gradients and optimizer algorithm \n",
    "    opt.step()\n",
    "    # we sum the loss over batches\n",
    "    loss_epoch += loss.item()\n",
    "  \n",
    "  loss_epoch_array.append(loss_epoch)\n",
    "  train_accuracy.append(evaluation(train_loader))\n",
    "  test_accuracy.append(evaluation(test_loader))\n",
    "  print(\"Epoch {}: loss: {}, train accuracy: {}, valid accuracy:{}\".format(epoch + 1, loss_epoch_array[-1], train_accuracy[-1], test_accuracy[-1]))"
   ]
  },
  {
   "cell_type": "code",
   "execution_count": 7,
   "id": "abb576c9-10f6-4f8d-8f43-be751b1b3d4c",
   "metadata": {},
   "outputs": [
    {
     "data": {
      "text/plain": [
       "<matplotlib.legend.Legend at 0x7f98cc458d00>"
      ]
     },
     "execution_count": 7,
     "metadata": {},
     "output_type": "execute_result"
    },
    {
     "data": {
      "image/png": "[encoded data removed]",
      "text/plain": [
       "<Figure size 640x480 with 1 Axes>"
      ]
     },
     "metadata": {},
     "output_type": "display_data"
    }
   ],
   "source": [
    "plt.xlabel(\"Epoch\")\n",
    "plt.ylabel(\"Accuracy\")\n",
    "plt.plot(train_accuracy, \"r\")\n",
    "plt.plot(test_accuracy, \"b\")\n",
    "plt.gca().legend(('train','test'))"
   ]
  },
  {
   "cell_type": "code",
   "execution_count": 8,
   "id": "9ce78bfe-d71a-41cb-81f5-b264b9c0d3a7",
   "metadata": {},
   "outputs": [
    {
     "data": {
      "text/plain": [
       "[<matplotlib.lines.Line2D at 0x7f98b43b9840>]"
      ]
     },
     "execution_count": 8,
     "metadata": {},
     "output_type": "execute_result"
    },
    {
     "data": {
      "image/png": "[encoded data removed]",
      "text/plain": [
       "<Figure size 640x480 with 1 Axes>"
      ]
     },
     "metadata": {},
     "output_type": "display_data"
    }
   ],
   "source": [
    "plt.xlabel(\"Epoch\")\n",
    "plt.ylabel(\"Loss\")\n",
    "plt.plot(loss_epoch_array)"
   ]
  },
  {
   "cell_type": "markdown",
   "id": "4cf1574a-3cba-47d0-8497-36c4c01623c7",
   "metadata": {},
   "source": [
    "### Using Tanh Activation function "
   ]
  },
  {
   "cell_type": "code",
   "execution_count": 16,
   "id": "9a90f92a-f5ff-4f78-b21a-a4030691ed38",
   "metadata": {},
   "outputs": [
    {
     "name": "stderr",
     "output_type": "stream",
     "text": [
      "100%|██████████| 1875/1875 [00:09<00:00, 200.99it/s]\n"
     ]
    },
    {
     "name": "stdout",
     "output_type": "stream",
     "text": [
      "Epoch 1: loss: 871.8960928022861, train accuracy: 86.875, valid accuracy:85.71\n"
     ]
    },
    {
     "name": "stderr",
     "output_type": "stream",
     "text": [
      "100%|██████████| 1875/1875 [00:09<00:00, 203.91it/s]\n"
     ]
    },
    {
     "name": "stdout",
     "output_type": "stream",
     "text": [
      "Epoch 2: loss: 597.8856916800141, train accuracy: 90.07, valid accuracy:88.25\n"
     ]
    },
    {
     "name": "stderr",
     "output_type": "stream",
     "text": [
      "100%|██████████| 1875/1875 [00:09<00:00, 192.74it/s]\n"
     ]
    },
    {
     "name": "stdout",
     "output_type": "stream",
     "text": [
      "Epoch 3: loss: 502.9437311189249, train accuracy: 91.78333333333333, valid accuracy:89.51\n"
     ]
    },
    {
     "name": "stderr",
     "output_type": "stream",
     "text": [
      "100%|██████████| 1875/1875 [00:09<00:00, 200.39it/s]\n"
     ]
    },
    {
     "name": "stdout",
     "output_type": "stream",
     "text": [
      "Epoch 4: loss: 436.6968989567831, train accuracy: 92.86833333333334, valid accuracy:89.83\n"
     ]
    },
    {
     "name": "stderr",
     "output_type": "stream",
     "text": [
      "100%|██████████| 1875/1875 [00:08<00:00, 209.78it/s]\n"
     ]
    },
    {
     "name": "stdout",
     "output_type": "stream",
     "text": [
      "Epoch 5: loss: 384.24215891212225, train accuracy: 93.94, valid accuracy:90.61\n"
     ]
    },
    {
     "name": "stderr",
     "output_type": "stream",
     "text": [
      "100%|██████████| 1875/1875 [00:09<00:00, 208.18it/s]\n"
     ]
    },
    {
     "name": "stdout",
     "output_type": "stream",
     "text": [
      "Epoch 6: loss: 335.69540074374527, train accuracy: 94.28, valid accuracy:90.09\n"
     ]
    },
    {
     "name": "stderr",
     "output_type": "stream",
     "text": [
      "100%|██████████| 1875/1875 [00:09<00:00, 204.31it/s]\n"
     ]
    },
    {
     "name": "stdout",
     "output_type": "stream",
     "text": [
      "Epoch 7: loss: 294.15069261193275, train accuracy: 95.12833333333333, valid accuracy:90.46\n"
     ]
    },
    {
     "name": "stderr",
     "output_type": "stream",
     "text": [
      "100%|██████████| 1875/1875 [00:09<00:00, 200.00it/s]\n"
     ]
    },
    {
     "name": "stdout",
     "output_type": "stream",
     "text": [
      "Epoch 8: loss: 254.7905839048326, train accuracy: 95.32833333333333, valid accuracy:89.95\n"
     ]
    },
    {
     "name": "stderr",
     "output_type": "stream",
     "text": [
      "100%|██████████| 1875/1875 [00:09<00:00, 202.77it/s]\n"
     ]
    },
    {
     "name": "stdout",
     "output_type": "stream",
     "text": [
      "Epoch 9: loss: 216.18389040743932, train accuracy: 96.25833333333334, valid accuracy:90.05\n"
     ]
    },
    {
     "name": "stderr",
     "output_type": "stream",
     "text": [
      "100%|██████████| 1875/1875 [00:09<00:00, 206.12it/s]\n"
     ]
    },
    {
     "name": "stdout",
     "output_type": "stream",
     "text": [
      "Epoch 10: loss: 183.18711209692992, train accuracy: 96.99, valid accuracy:90.17\n"
     ]
    },
    {
     "name": "stderr",
     "output_type": "stream",
     "text": [
      "100%|██████████| 1875/1875 [00:09<00:00, 204.14it/s]\n"
     ]
    },
    {
     "name": "stdout",
     "output_type": "stream",
     "text": [
      "Epoch 11: loss: 154.41425151447766, train accuracy: 97.72333333333333, valid accuracy:90.86\n"
     ]
    },
    {
     "name": "stderr",
     "output_type": "stream",
     "text": [
      "100%|██████████| 1875/1875 [00:09<00:00, 207.76it/s]\n"
     ]
    },
    {
     "name": "stdout",
     "output_type": "stream",
     "text": [
      "Epoch 12: loss: 127.71152751025511, train accuracy: 97.99, valid accuracy:90.86\n"
     ]
    },
    {
     "name": "stderr",
     "output_type": "stream",
     "text": [
      "100%|██████████| 1875/1875 [00:09<00:00, 204.80it/s]\n"
     ]
    },
    {
     "name": "stdout",
     "output_type": "stream",
     "text": [
      "Epoch 13: loss: 106.63877134775976, train accuracy: 98.33166666666666, valid accuracy:90.76\n"
     ]
    },
    {
     "name": "stderr",
     "output_type": "stream",
     "text": [
      "100%|██████████| 1875/1875 [00:09<00:00, 207.18it/s]\n"
     ]
    },
    {
     "name": "stdout",
     "output_type": "stream",
     "text": [
      "Epoch 14: loss: 83.2853021510382, train accuracy: 99.02666666666667, valid accuracy:91.01\n"
     ]
    },
    {
     "name": "stderr",
     "output_type": "stream",
     "text": [
      "100%|██████████| 1875/1875 [00:09<00:00, 196.23it/s]\n"
     ]
    },
    {
     "name": "stdout",
     "output_type": "stream",
     "text": [
      "Epoch 15: loss: 60.89142787599121, train accuracy: 99.22333333333333, valid accuracy:90.74\n"
     ]
    },
    {
     "name": "stderr",
     "output_type": "stream",
     "text": [
      "100%|██████████| 1875/1875 [00:09<00:00, 202.55it/s]\n"
     ]
    },
    {
     "name": "stdout",
     "output_type": "stream",
     "text": [
      "Epoch 16: loss: 44.058272927046346, train accuracy: 99.43333333333334, valid accuracy:91.14\n"
     ]
    },
    {
     "name": "stderr",
     "output_type": "stream",
     "text": [
      "100%|██████████| 1875/1875 [00:09<00:00, 202.03it/s]\n"
     ]
    },
    {
     "name": "stdout",
     "output_type": "stream",
     "text": [
      "Epoch 17: loss: 32.31264678633306, train accuracy: 99.70833333333333, valid accuracy:91.28\n"
     ]
    },
    {
     "name": "stderr",
     "output_type": "stream",
     "text": [
      "100%|██████████| 1875/1875 [00:09<00:00, 193.99it/s]\n"
     ]
    },
    {
     "name": "stdout",
     "output_type": "stream",
     "text": [
      "Epoch 18: loss: 17.31278872719122, train accuracy: 99.71333333333334, valid accuracy:90.99\n"
     ]
    },
    {
     "name": "stderr",
     "output_type": "stream",
     "text": [
      "100%|██████████| 1875/1875 [00:09<00:00, 207.32it/s]\n"
     ]
    },
    {
     "name": "stdout",
     "output_type": "stream",
     "text": [
      "Epoch 19: loss: 8.864945181430812, train accuracy: 99.93, valid accuracy:91.45\n"
     ]
    },
    {
     "name": "stderr",
     "output_type": "stream",
     "text": [
      "100%|██████████| 1875/1875 [00:09<00:00, 206.41it/s]\n"
     ]
    },
    {
     "name": "stdout",
     "output_type": "stream",
     "text": [
      "Epoch 20: loss: 3.95053377387012, train accuracy: 100.0, valid accuracy:91.51\n"
     ]
    },
    {
     "name": "stderr",
     "output_type": "stream",
     "text": [
      "100%|██████████| 1875/1875 [00:09<00:00, 203.29it/s]\n"
     ]
    },
    {
     "name": "stdout",
     "output_type": "stream",
     "text": [
      "Epoch 21: loss: 2.4370152191877423, train accuracy: 100.0, valid accuracy:91.65\n"
     ]
    },
    {
     "name": "stderr",
     "output_type": "stream",
     "text": [
      "100%|██████████| 1875/1875 [00:09<00:00, 200.01it/s]\n"
     ]
    },
    {
     "name": "stdout",
     "output_type": "stream",
     "text": [
      "Epoch 22: loss: 1.9034190383426903, train accuracy: 100.0, valid accuracy:91.54\n"
     ]
    },
    {
     "name": "stderr",
     "output_type": "stream",
     "text": [
      "100%|██████████| 1875/1875 [00:09<00:00, 201.76it/s]\n"
     ]
    },
    {
     "name": "stdout",
     "output_type": "stream",
     "text": [
      "Epoch 23: loss: 1.626284488372221, train accuracy: 100.0, valid accuracy:91.58\n"
     ]
    },
    {
     "name": "stderr",
     "output_type": "stream",
     "text": [
      "100%|██████████| 1875/1875 [00:09<00:00, 206.06it/s]\n"
     ]
    },
    {
     "name": "stdout",
     "output_type": "stream",
     "text": [
      "Epoch 24: loss: 1.4233886203983275, train accuracy: 100.0, valid accuracy:91.67\n"
     ]
    },
    {
     "name": "stderr",
     "output_type": "stream",
     "text": [
      "100%|██████████| 1875/1875 [00:09<00:00, 203.99it/s]\n"
     ]
    },
    {
     "name": "stdout",
     "output_type": "stream",
     "text": [
      "Epoch 25: loss: 1.2748816860012084, train accuracy: 100.0, valid accuracy:91.55\n"
     ]
    },
    {
     "name": "stderr",
     "output_type": "stream",
     "text": [
      "100%|██████████| 1875/1875 [00:09<00:00, 203.85it/s]\n"
     ]
    },
    {
     "name": "stdout",
     "output_type": "stream",
     "text": [
      "Epoch 26: loss: 1.1566167704513646, train accuracy: 100.0, valid accuracy:91.55\n"
     ]
    },
    {
     "name": "stderr",
     "output_type": "stream",
     "text": [
      "100%|██████████| 1875/1875 [00:09<00:00, 207.12it/s]\n"
     ]
    },
    {
     "name": "stdout",
     "output_type": "stream",
     "text": [
      "Epoch 27: loss: 1.06162875980408, train accuracy: 100.0, valid accuracy:91.61\n"
     ]
    },
    {
     "name": "stderr",
     "output_type": "stream",
     "text": [
      "100%|██████████| 1875/1875 [00:09<00:00, 204.60it/s]\n"
     ]
    },
    {
     "name": "stdout",
     "output_type": "stream",
     "text": [
      "Epoch 28: loss: 0.9768444899573296, train accuracy: 100.0, valid accuracy:91.62\n"
     ]
    },
    {
     "name": "stderr",
     "output_type": "stream",
     "text": [
      "100%|██████████| 1875/1875 [00:09<00:00, 205.52it/s]\n"
     ]
    },
    {
     "name": "stdout",
     "output_type": "stream",
     "text": [
      "Epoch 29: loss: 0.9087039425576222, train accuracy: 100.0, valid accuracy:91.63\n"
     ]
    },
    {
     "name": "stderr",
     "output_type": "stream",
     "text": [
      "100%|██████████| 1875/1875 [00:09<00:00, 203.60it/s]\n"
     ]
    },
    {
     "name": "stdout",
     "output_type": "stream",
     "text": [
      "Epoch 30: loss: 0.8486465274663715, train accuracy: 100.0, valid accuracy:91.58\n"
     ]
    },
    {
     "data": {
      "text/plain": [
       "<matplotlib.legend.Legend at 0x7f984649e140>"
      ]
     },
     "execution_count": 16,
     "metadata": {},
     "output_type": "execute_result"
    },
    {
     "data": {
      "image/png": "[encoded data removed]",
      "text/plain": [
       "<Figure size 640x480 with 1 Axes>"
      ]
     },
     "metadata": {},
     "output_type": "display_data"
    }
   ],
   "source": [
    "class MyCNN(nn.Module):\n",
    "  def __init__(self):\n",
    "    super(MyCNN, self).__init__()\n",
    "      \n",
    "    self.cnn_model = nn.Sequential(nn.Conv2d(1, 32, kernel_size = 5, stride=1), nn.Tanh(), nn.MaxPool2d(2, stride=2), nn.Conv2d(32, 64, kernel_size = 5, stride = 1), nn.Tanh(), nn.MaxPool2d(2, stride = 2))\n",
    "    \n",
    "    self.fc_model = nn.Sequential(nn.Linear(1024, 1024), nn.Tanh(), nn.Linear(1024,256), nn.Tanh(), nn.Linear(256, 10))\n",
    " \n",
    "   \n",
    "  def forward(self, x):\n",
    "    \n",
    "    x = self.cnn_model(x)\n",
    "\n",
    "    x =x.view(x.size(0), -1)\n",
    "    \n",
    "    x = self.fc_model(x)\n",
    "    \n",
    "    return x\n",
    "def evaluation(dataloader):\n",
    "  total, correct = 0,0\n",
    "  net.eval()\n",
    "  for data in dataloader:\n",
    "    \n",
    "    inputs, labels = data\n",
    "    inputs, labels = inputs.to(device), labels.to(device)\n",
    "    outputs = net(inputs)\n",
    "    _, pred = torch.max(outputs.data, 1)\n",
    "    total += labels.size(0)\n",
    "    correct += (pred == labels).sum().item()\n",
    "  return 100 * correct / total\n",
    "def weights_init(m):\n",
    "    if isinstance(m, nn.Linear) or isinstance(m, nn.Conv2d):\n",
    "        torch.nn.init.xavier_normal_(m.weight)\n",
    "device = torch.device(\"cuda:0\")\n",
    "\n",
    "alpha = 0.1\n",
    "\n",
    "net = MyCNN().to(device)\n",
    "\n",
    "net.apply(weights_init)\n",
    "\n",
    "loss_fn = nn.CrossEntropyLoss()\n",
    "loss_fn.to(device)\n",
    "\n",
    "opt = torch.optim.SGD(list(net.parameters()), lr=alpha)\n",
    "    \n",
    "loss_epoch_array = []\n",
    "max_epochs = 30\n",
    "loss_epoch = 0\n",
    "train_accuracy = []\n",
    "test_accuracy = []\n",
    "for epoch in range(max_epochs):\n",
    "  \n",
    "  loss_epoch = 0\n",
    "  \n",
    "  for i, data in enumerate(tqdm(train_loader), 0):\n",
    "    \n",
    "    net.train()\n",
    "    inputs, labels = data\n",
    "    inputs, labels = inputs.to(device), labels.to(device)\n",
    "    opt.zero_grad()\n",
    "    outputs = net(inputs)\n",
    "    loss = loss_fn(outputs, labels)\n",
    "    loss.backward()\n",
    "    opt.step()\n",
    "    loss_epoch += loss.item()\n",
    "  \n",
    "  loss_epoch_array.append(loss_epoch)\n",
    "  train_accuracy.append(evaluation(train_loader))\n",
    "  test_accuracy.append(evaluation(test_loader))\n",
    "  print(\"Epoch {}: loss: {}, train accuracy: {}, valid accuracy:{}\".format(epoch + 1, loss_epoch_array[-1], train_accuracy[-1], test_accuracy[-1]))\n",
    "plt.xlabel(\"Epoch\")\n",
    "plt.ylabel(\"Accuracy\")\n",
    "plt.plot(train_accuracy, \"r\")\n",
    "plt.plot(test_accuracy, \"b\")\n",
    "plt.gca().legend(('train','test'))\n"
   ]
  },
  {
   "cell_type": "code",
   "execution_count": 17,
   "id": "3de71d52-0703-42df-bfbb-3edb4a3a1a23",
   "metadata": {},
   "outputs": [
    {
     "data": {
      "text/plain": [
       "[<matplotlib.lines.Line2D at 0x7f98461d7190>]"
      ]
     },
     "execution_count": 17,
     "metadata": {},
     "output_type": "execute_result"
    },
    {
     "data": {
      "image/png": "[encoded data removed]",
      "text/plain": [
       "<Figure size 640x480 with 1 Axes>"
      ]
     },
     "metadata": {},
     "output_type": "display_data"
    }
   ],
   "source": [
    "plt.xlabel(\"Epoch\")\n",
    "plt.ylabel(\"Loss\")\n",
    "plt.plot(loss_epoch_array)"
   ]
  },
  {
   "cell_type": "markdown",
   "id": "deeead20-3176-4af7-918b-63c92f8e0933",
   "metadata": {},
   "source": [
    "### Using Sigmoid Activation Function"
   ]
  },
  {
   "cell_type": "code",
   "execution_count": 18,
   "id": "d521b76c-6014-476c-a0b7-350c74bfea3e",
   "metadata": {},
   "outputs": [
    {
     "name": "stderr",
     "output_type": "stream",
     "text": [
      "100%|██████████| 1875/1875 [00:09<00:00, 203.00it/s]\n"
     ]
    },
    {
     "name": "stdout",
     "output_type": "stream",
     "text": [
      "Epoch 1: loss: 4338.629977226257, train accuracy: 10.0, valid accuracy:10.0\n"
     ]
    },
    {
     "name": "stderr",
     "output_type": "stream",
     "text": [
      "100%|██████████| 1875/1875 [00:09<00:00, 203.97it/s]\n"
     ]
    },
    {
     "name": "stdout",
     "output_type": "stream",
     "text": [
      "Epoch 2: loss: 4320.159817457199, train accuracy: 10.0, valid accuracy:10.0\n"
     ]
    },
    {
     "name": "stderr",
     "output_type": "stream",
     "text": [
      "100%|██████████| 1875/1875 [00:09<00:00, 205.44it/s]\n"
     ]
    },
    {
     "name": "stdout",
     "output_type": "stream",
     "text": [
      "Epoch 3: loss: 4319.2086045742035, train accuracy: 10.0, valid accuracy:10.0\n"
     ]
    },
    {
     "name": "stderr",
     "output_type": "stream",
     "text": [
      "100%|██████████| 1875/1875 [00:09<00:00, 202.89it/s]\n"
     ]
    },
    {
     "name": "stdout",
     "output_type": "stream",
     "text": [
      "Epoch 4: loss: 4318.101076602936, train accuracy: 17.526666666666667, valid accuracy:17.32\n"
     ]
    },
    {
     "name": "stderr",
     "output_type": "stream",
     "text": [
      "100%|██████████| 1875/1875 [00:09<00:00, 195.82it/s]\n"
     ]
    },
    {
     "name": "stdout",
     "output_type": "stream",
     "text": [
      "Epoch 5: loss: 3422.9856256842613, train accuracy: 61.41166666666667, valid accuracy:60.81\n"
     ]
    },
    {
     "name": "stderr",
     "output_type": "stream",
     "text": [
      "100%|██████████| 1875/1875 [00:09<00:00, 198.16it/s]\n"
     ]
    },
    {
     "name": "stdout",
     "output_type": "stream",
     "text": [
      "Epoch 6: loss: 1577.9660258591175, train accuracy: 71.69833333333334, valid accuracy:70.77\n"
     ]
    },
    {
     "name": "stderr",
     "output_type": "stream",
     "text": [
      "100%|██████████| 1875/1875 [00:09<00:00, 207.17it/s]\n"
     ]
    },
    {
     "name": "stdout",
     "output_type": "stream",
     "text": [
      "Epoch 7: loss: 1301.0205825269222, train accuracy: 72.315, valid accuracy:71.77\n"
     ]
    },
    {
     "name": "stderr",
     "output_type": "stream",
     "text": [
      "100%|██████████| 1875/1875 [00:08<00:00, 209.38it/s]\n"
     ]
    },
    {
     "name": "stdout",
     "output_type": "stream",
     "text": [
      "Epoch 8: loss: 1174.9306388646364, train accuracy: 75.75833333333334, valid accuracy:74.61\n"
     ]
    },
    {
     "name": "stderr",
     "output_type": "stream",
     "text": [
      "100%|██████████| 1875/1875 [00:09<00:00, 203.83it/s]\n"
     ]
    },
    {
     "name": "stdout",
     "output_type": "stream",
     "text": [
      "Epoch 9: loss: 1077.4489442110062, train accuracy: 79.89166666666667, valid accuracy:78.76\n"
     ]
    },
    {
     "name": "stderr",
     "output_type": "stream",
     "text": [
      "100%|██████████| 1875/1875 [00:09<00:00, 206.96it/s]\n"
     ]
    },
    {
     "name": "stdout",
     "output_type": "stream",
     "text": [
      "Epoch 10: loss: 991.9581004232168, train accuracy: 81.575, valid accuracy:80.17\n"
     ]
    },
    {
     "name": "stderr",
     "output_type": "stream",
     "text": [
      "100%|██████████| 1875/1875 [00:09<00:00, 203.91it/s]\n"
     ]
    },
    {
     "name": "stdout",
     "output_type": "stream",
     "text": [
      "Epoch 11: loss: 923.8029671758413, train accuracy: 81.91, valid accuracy:80.77\n"
     ]
    },
    {
     "name": "stderr",
     "output_type": "stream",
     "text": [
      "100%|██████████| 1875/1875 [00:08<00:00, 208.77it/s]\n"
     ]
    },
    {
     "name": "stdout",
     "output_type": "stream",
     "text": [
      "Epoch 12: loss: 872.3038332313299, train accuracy: 83.02833333333334, valid accuracy:81.49\n"
     ]
    },
    {
     "name": "stderr",
     "output_type": "stream",
     "text": [
      "100%|██████████| 1875/1875 [00:08<00:00, 210.11it/s]\n"
     ]
    },
    {
     "name": "stdout",
     "output_type": "stream",
     "text": [
      "Epoch 13: loss: 825.948489151895, train accuracy: 85.0, valid accuracy:83.95\n"
     ]
    },
    {
     "name": "stderr",
     "output_type": "stream",
     "text": [
      "100%|██████████| 1875/1875 [00:09<00:00, 207.11it/s]\n"
     ]
    },
    {
     "name": "stdout",
     "output_type": "stream",
     "text": [
      "Epoch 14: loss: 786.7327634841204, train accuracy: 85.65666666666667, valid accuracy:84.5\n"
     ]
    },
    {
     "name": "stderr",
     "output_type": "stream",
     "text": [
      "100%|██████████| 1875/1875 [00:09<00:00, 206.45it/s]\n"
     ]
    },
    {
     "name": "stdout",
     "output_type": "stream",
     "text": [
      "Epoch 15: loss: 750.800844848156, train accuracy: 86.51166666666667, valid accuracy:85.5\n"
     ]
    },
    {
     "name": "stderr",
     "output_type": "stream",
     "text": [
      "100%|██████████| 1875/1875 [00:09<00:00, 206.84it/s]\n"
     ]
    },
    {
     "name": "stdout",
     "output_type": "stream",
     "text": [
      "Epoch 16: loss: 718.9509493410587, train accuracy: 86.235, valid accuracy:85.15\n"
     ]
    },
    {
     "name": "stderr",
     "output_type": "stream",
     "text": [
      "100%|██████████| 1875/1875 [00:09<00:00, 203.10it/s]\n"
     ]
    },
    {
     "name": "stdout",
     "output_type": "stream",
     "text": [
      "Epoch 17: loss: 696.0804545208812, train accuracy: 86.085, valid accuracy:85.03\n"
     ]
    },
    {
     "name": "stderr",
     "output_type": "stream",
     "text": [
      "100%|██████████| 1875/1875 [00:09<00:00, 196.44it/s]\n"
     ]
    },
    {
     "name": "stdout",
     "output_type": "stream",
     "text": [
      "Epoch 18: loss: 670.4115201756358, train accuracy: 87.76666666666667, valid accuracy:86.54\n"
     ]
    },
    {
     "name": "stderr",
     "output_type": "stream",
     "text": [
      "100%|██████████| 1875/1875 [00:09<00:00, 207.56it/s]\n"
     ]
    },
    {
     "name": "stdout",
     "output_type": "stream",
     "text": [
      "Epoch 19: loss: 652.7044222205877, train accuracy: 87.89666666666666, valid accuracy:86.6\n"
     ]
    },
    {
     "name": "stderr",
     "output_type": "stream",
     "text": [
      "100%|██████████| 1875/1875 [00:08<00:00, 214.09it/s]\n"
     ]
    },
    {
     "name": "stdout",
     "output_type": "stream",
     "text": [
      "Epoch 20: loss: 635.8420058600605, train accuracy: 88.385, valid accuracy:86.92\n"
     ]
    },
    {
     "name": "stderr",
     "output_type": "stream",
     "text": [
      "100%|██████████| 1875/1875 [00:08<00:00, 216.14it/s]\n"
     ]
    },
    {
     "name": "stdout",
     "output_type": "stream",
     "text": [
      "Epoch 21: loss: 620.9208860956132, train accuracy: 87.79833333333333, valid accuracy:86.47\n"
     ]
    },
    {
     "name": "stderr",
     "output_type": "stream",
     "text": [
      "100%|██████████| 1875/1875 [00:08<00:00, 217.32it/s]\n"
     ]
    },
    {
     "name": "stdout",
     "output_type": "stream",
     "text": [
      "Epoch 22: loss: 604.1334788240492, train accuracy: 88.56666666666666, valid accuracy:87.1\n"
     ]
    },
    {
     "name": "stderr",
     "output_type": "stream",
     "text": [
      "100%|██████████| 1875/1875 [00:08<00:00, 221.41it/s]\n"
     ]
    },
    {
     "name": "stdout",
     "output_type": "stream",
     "text": [
      "Epoch 23: loss: 592.4056952632964, train accuracy: 88.88666666666667, valid accuracy:87.44\n"
     ]
    },
    {
     "name": "stderr",
     "output_type": "stream",
     "text": [
      "100%|██████████| 1875/1875 [00:08<00:00, 218.16it/s]\n"
     ]
    },
    {
     "name": "stdout",
     "output_type": "stream",
     "text": [
      "Epoch 24: loss: 579.4697364903986, train accuracy: 89.12666666666667, valid accuracy:87.58\n"
     ]
    },
    {
     "name": "stderr",
     "output_type": "stream",
     "text": [
      "100%|██████████| 1875/1875 [00:08<00:00, 223.79it/s]\n"
     ]
    },
    {
     "name": "stdout",
     "output_type": "stream",
     "text": [
      "Epoch 25: loss: 568.2123823985457, train accuracy: 88.895, valid accuracy:87.66\n"
     ]
    },
    {
     "name": "stderr",
     "output_type": "stream",
     "text": [
      "100%|██████████| 1875/1875 [00:08<00:00, 217.91it/s]\n"
     ]
    },
    {
     "name": "stdout",
     "output_type": "stream",
     "text": [
      "Epoch 26: loss: 559.1085016690195, train accuracy: 89.48833333333333, valid accuracy:87.98\n"
     ]
    },
    {
     "name": "stderr",
     "output_type": "stream",
     "text": [
      "100%|██████████| 1875/1875 [00:08<00:00, 213.40it/s]\n"
     ]
    },
    {
     "name": "stdout",
     "output_type": "stream",
     "text": [
      "Epoch 27: loss: 547.3044192865491, train accuracy: 89.68666666666667, valid accuracy:88.07\n"
     ]
    },
    {
     "name": "stderr",
     "output_type": "stream",
     "text": [
      "100%|██████████| 1875/1875 [00:08<00:00, 217.93it/s]\n"
     ]
    },
    {
     "name": "stdout",
     "output_type": "stream",
     "text": [
      "Epoch 28: loss: 537.4989830609411, train accuracy: 89.9, valid accuracy:88.29\n"
     ]
    },
    {
     "name": "stderr",
     "output_type": "stream",
     "text": [
      "100%|██████████| 1875/1875 [00:08<00:00, 221.73it/s]\n"
     ]
    },
    {
     "name": "stdout",
     "output_type": "stream",
     "text": [
      "Epoch 29: loss: 529.656470309943, train accuracy: 89.33666666666667, valid accuracy:87.73\n"
     ]
    },
    {
     "name": "stderr",
     "output_type": "stream",
     "text": [
      "100%|██████████| 1875/1875 [00:08<00:00, 220.61it/s]\n"
     ]
    },
    {
     "name": "stdout",
     "output_type": "stream",
     "text": [
      "Epoch 30: loss: 522.7023586072028, train accuracy: 90.15, valid accuracy:88.72\n"
     ]
    },
    {
     "data": {
      "text/plain": [
       "<matplotlib.legend.Legend at 0x7f98b43baef0>"
      ]
     },
     "execution_count": 18,
     "metadata": {},
     "output_type": "execute_result"
    },
    {
     "data": {
      "image/png": "[encoded data removed]",
      "text/plain": [
       "<Figure size 640x480 with 1 Axes>"
      ]
     },
     "metadata": {},
     "output_type": "display_data"
    }
   ],
   "source": [
    "class MyCNN(nn.Module):\n",
    "  def __init__(self):\n",
    "    super(MyCNN, self).__init__()\n",
    "\n",
    "    self.cnn_model = nn.Sequential(nn.Conv2d(1, 32, kernel_size = 5, stride=1), nn.Sigmoid(), nn.MaxPool2d(2, stride=2), nn.Conv2d(32, 64, kernel_size = 5, stride = 1), nn.Sigmoid(), nn.MaxPool2d(2, stride = 2))\n",
    "\n",
    "    self.fc_model = nn.Sequential(nn.Linear(1024, 1024), nn.Sigmoid(), nn.Linear(1024,256), nn.Sigmoid(), nn.Linear(256, 10))\n",
    " \n",
    "   \n",
    "  def forward(self, x):\n",
    "\n",
    "    x = self.cnn_model(x)\n",
    "\n",
    "    x =x.view(x.size(0), -1)\n",
    "    x = self.fc_model(x)\n",
    "    \n",
    "    return x\n",
    "def evaluation(dataloader):\n",
    "  total, correct = 0,0\n",
    "\n",
    "  net.eval()\n",
    "  for data in dataloader:\n",
    "    \n",
    "    inputs, labels = data\n",
    "    inputs, labels = inputs.to(device), labels.to(device)\n",
    "    outputs = net(inputs)\n",
    "\n",
    "    _, pred = torch.max(outputs.data, 1)\n",
    "    total += labels.size(0)\n",
    "    \n",
    "    correct += (pred == labels).sum().item()\n",
    "  return 100 * correct / total\n",
    "def weights_init(m):\n",
    "    \n",
    "    if isinstance(m, nn.Linear) or isinstance(m, nn.Conv2d):\n",
    "        torch.nn.init.xavier_normal_(m.weight)\n",
    "device = torch.device(\"cuda:0\")\n",
    "\n",
    "alpha = 0.1\n",
    "\n",
    "net = MyCNN().to(device)\n",
    "\n",
    "net.apply(weights_init)\n",
    "\n",
    "\n",
    "loss_fn = nn.CrossEntropyLoss()\n",
    "loss_fn.to(device)\n",
    "opt = torch.optim.SGD(list(net.parameters()), lr=alpha)\n",
    "    \n",
    "loss_epoch_array = []\n",
    "max_epochs = 30\n",
    "loss_epoch = 0\n",
    "train_accuracy = []\n",
    "test_accuracy = []\n",
    "\n",
    "for epoch in range(max_epochs):\n",
    "  \n",
    "  loss_epoch = 0\n",
    "  \n",
    "  for i, data in enumerate(tqdm(train_loader), 0):\n",
    "    \n",
    "    net.train()\n",
    "    inputs, labels = data\n",
    "    inputs, labels = inputs.to(device), labels.to(device)\n",
    "    \n",
    "    opt.zero_grad()\n",
    "    outputs = net(inputs)\n",
    "    \n",
    "    loss = loss_fn(outputs, labels)\n",
    "    \n",
    "    loss.backward()\n",
    "    \n",
    "    opt.step()\n",
    "    \n",
    "    loss_epoch += loss.item()\n",
    "  \n",
    "  loss_epoch_array.append(loss_epoch)\n",
    "  train_accuracy.append(evaluation(train_loader))\n",
    "  test_accuracy.append(evaluation(test_loader))\n",
    "  print(\"Epoch {}: loss: {}, train accuracy: {}, valid accuracy:{}\".format(epoch + 1, loss_epoch_array[-1], train_accuracy[-1], test_accuracy[-1]))\n",
    "plt.xlabel(\"Epoch\")\n",
    "plt.ylabel(\"Accuracy\")\n",
    "plt.plot(train_accuracy, \"r\")\n",
    "plt.plot(test_accuracy, \"b\")\n",
    "plt.gca().legend(('train','test'))\n"
   ]
  },
  {
   "cell_type": "code",
   "execution_count": 19,
   "id": "34e540db-fa5d-421c-8128-5f6779812eb0",
   "metadata": {},
   "outputs": [
    {
     "data": {
      "text/plain": [
       "[<matplotlib.lines.Line2D at 0x7f98cc5a9c00>]"
      ]
     },
     "execution_count": 19,
     "metadata": {},
     "output_type": "execute_result"
    },
    {
     "data": {
      "image/png": "[encoded data removed]",
      "text/plain": [
       "<Figure size 640x480 with 1 Axes>"
      ]
     },
     "metadata": {},
     "output_type": "display_data"
    }
   ],
   "source": [
    "plt.xlabel(\"Epoch\")\n",
    "plt.ylabel(\"Loss\")\n",
    "plt.plot(loss_epoch_array)"
   ]
  },
  {
   "cell_type": "markdown",
   "id": "debe091a-1079-4df2-864c-ec2420b8b135",
   "metadata": {},
   "source": [
    "### Using ELU activation function"
   ]
  },
  {
   "cell_type": "code",
   "execution_count": 20,
   "id": "24aeead7-b87b-452c-839d-e67c07bff1d5",
   "metadata": {},
   "outputs": [
    {
     "name": "stderr",
     "output_type": "stream",
     "text": [
      "100%|██████████| 1875/1875 [00:08<00:00, 219.28it/s]\n"
     ]
    },
    {
     "name": "stdout",
     "output_type": "stream",
     "text": [
      "Epoch 1: loss: 861.5997207984328, train accuracy: 86.96333333333334, valid accuracy:86.08\n"
     ]
    },
    {
     "name": "stderr",
     "output_type": "stream",
     "text": [
      "100%|██████████| 1875/1875 [00:08<00:00, 217.12it/s]\n"
     ]
    },
    {
     "name": "stdout",
     "output_type": "stream",
     "text": [
      "Epoch 2: loss: 592.805760871619, train accuracy: 90.48166666666667, valid accuracy:88.69\n"
     ]
    },
    {
     "name": "stderr",
     "output_type": "stream",
     "text": [
      "100%|██████████| 1875/1875 [00:08<00:00, 216.04it/s]\n"
     ]
    },
    {
     "name": "stdout",
     "output_type": "stream",
     "text": [
      "Epoch 3: loss: 507.92263110447675, train accuracy: 91.135, valid accuracy:88.79\n"
     ]
    },
    {
     "name": "stderr",
     "output_type": "stream",
     "text": [
      "100%|██████████| 1875/1875 [00:08<00:00, 210.03it/s]\n"
     ]
    },
    {
     "name": "stdout",
     "output_type": "stream",
     "text": [
      "Epoch 4: loss: 447.13199480064213, train accuracy: 92.955, valid accuracy:90.3\n"
     ]
    },
    {
     "name": "stderr",
     "output_type": "stream",
     "text": [
      "100%|██████████| 1875/1875 [00:08<00:00, 213.53it/s]\n"
     ]
    },
    {
     "name": "stdout",
     "output_type": "stream",
     "text": [
      "Epoch 5: loss: 397.3939229911193, train accuracy: 93.205, valid accuracy:89.65\n"
     ]
    },
    {
     "name": "stderr",
     "output_type": "stream",
     "text": [
      "100%|██████████| 1875/1875 [00:08<00:00, 223.36it/s]\n"
     ]
    },
    {
     "name": "stdout",
     "output_type": "stream",
     "text": [
      "Epoch 6: loss: 356.6821205932647, train accuracy: 93.30333333333333, valid accuracy:90.23\n"
     ]
    },
    {
     "name": "stderr",
     "output_type": "stream",
     "text": [
      "100%|██████████| 1875/1875 [00:08<00:00, 214.10it/s]\n"
     ]
    },
    {
     "name": "stdout",
     "output_type": "stream",
     "text": [
      "Epoch 7: loss: 319.7241372419521, train accuracy: 94.68333333333334, valid accuracy:90.47\n"
     ]
    },
    {
     "name": "stderr",
     "output_type": "stream",
     "text": [
      "100%|██████████| 1875/1875 [00:08<00:00, 224.06it/s]\n"
     ]
    },
    {
     "name": "stdout",
     "output_type": "stream",
     "text": [
      "Epoch 8: loss: 285.94517661072314, train accuracy: 95.76166666666667, valid accuracy:90.89\n"
     ]
    },
    {
     "name": "stderr",
     "output_type": "stream",
     "text": [
      "100%|██████████| 1875/1875 [00:08<00:00, 219.56it/s]\n"
     ]
    },
    {
     "name": "stdout",
     "output_type": "stream",
     "text": [
      "Epoch 9: loss: 259.2492206809111, train accuracy: 96.12833333333333, valid accuracy:90.73\n"
     ]
    },
    {
     "name": "stderr",
     "output_type": "stream",
     "text": [
      "100%|██████████| 1875/1875 [00:08<00:00, 222.30it/s]\n"
     ]
    },
    {
     "name": "stdout",
     "output_type": "stream",
     "text": [
      "Epoch 10: loss: 228.82335701340344, train accuracy: 95.91166666666666, valid accuracy:90.63\n"
     ]
    },
    {
     "name": "stderr",
     "output_type": "stream",
     "text": [
      "100%|██████████| 1875/1875 [00:08<00:00, 217.36it/s]\n"
     ]
    },
    {
     "name": "stdout",
     "output_type": "stream",
     "text": [
      "Epoch 11: loss: 205.0298916316824, train accuracy: 95.895, valid accuracy:90.47\n"
     ]
    },
    {
     "name": "stderr",
     "output_type": "stream",
     "text": [
      "100%|██████████| 1875/1875 [00:08<00:00, 221.81it/s]\n"
     ]
    },
    {
     "name": "stdout",
     "output_type": "stream",
     "text": [
      "Epoch 12: loss: 185.11209721211344, train accuracy: 94.97, valid accuracy:88.65\n"
     ]
    },
    {
     "name": "stderr",
     "output_type": "stream",
     "text": [
      "100%|██████████| 1875/1875 [00:08<00:00, 217.45it/s]\n"
     ]
    },
    {
     "name": "stdout",
     "output_type": "stream",
     "text": [
      "Epoch 13: loss: 174.14963119477034, train accuracy: 95.71833333333333, valid accuracy:89.56\n"
     ]
    },
    {
     "name": "stderr",
     "output_type": "stream",
     "text": [
      "100%|██████████| 1875/1875 [00:08<00:00, 217.38it/s]\n"
     ]
    },
    {
     "name": "stdout",
     "output_type": "stream",
     "text": [
      "Epoch 14: loss: 154.69201945487293, train accuracy: 97.82333333333334, valid accuracy:90.72\n"
     ]
    },
    {
     "name": "stderr",
     "output_type": "stream",
     "text": [
      "100%|██████████| 1875/1875 [00:08<00:00, 221.48it/s]\n"
     ]
    },
    {
     "name": "stdout",
     "output_type": "stream",
     "text": [
      "Epoch 15: loss: 138.62447853430058, train accuracy: 97.895, valid accuracy:90.48\n"
     ]
    },
    {
     "name": "stderr",
     "output_type": "stream",
     "text": [
      "100%|██████████| 1875/1875 [00:08<00:00, 221.48it/s]\n"
     ]
    },
    {
     "name": "stdout",
     "output_type": "stream",
     "text": [
      "Epoch 16: loss: 134.41337820226727, train accuracy: 94.855, valid accuracy:88.31\n"
     ]
    },
    {
     "name": "stderr",
     "output_type": "stream",
     "text": [
      "100%|██████████| 1875/1875 [00:08<00:00, 215.36it/s]\n"
     ]
    },
    {
     "name": "stdout",
     "output_type": "stream",
     "text": [
      "Epoch 17: loss: 144.51377377008612, train accuracy: 97.72666666666667, valid accuracy:90.42\n"
     ]
    },
    {
     "name": "stderr",
     "output_type": "stream",
     "text": [
      "100%|██████████| 1875/1875 [00:08<00:00, 218.33it/s]\n"
     ]
    },
    {
     "name": "stdout",
     "output_type": "stream",
     "text": [
      "Epoch 18: loss: 115.21838653344093, train accuracy: 98.205, valid accuracy:90.34\n"
     ]
    },
    {
     "name": "stderr",
     "output_type": "stream",
     "text": [
      "100%|██████████| 1875/1875 [00:08<00:00, 220.53it/s]\n"
     ]
    },
    {
     "name": "stdout",
     "output_type": "stream",
     "text": [
      "Epoch 19: loss: 95.44914556865115, train accuracy: 98.29, valid accuracy:90.65\n"
     ]
    },
    {
     "name": "stderr",
     "output_type": "stream",
     "text": [
      "100%|██████████| 1875/1875 [00:09<00:00, 202.86it/s]\n"
     ]
    },
    {
     "name": "stdout",
     "output_type": "stream",
     "text": [
      "Epoch 20: loss: 98.10364721107726, train accuracy: 97.945, valid accuracy:90.31\n"
     ]
    },
    {
     "name": "stderr",
     "output_type": "stream",
     "text": [
      "100%|██████████| 1875/1875 [00:08<00:00, 211.98it/s]\n"
     ]
    },
    {
     "name": "stdout",
     "output_type": "stream",
     "text": [
      "Epoch 21: loss: 105.3949284476148, train accuracy: 98.74166666666666, valid accuracy:91.13\n"
     ]
    },
    {
     "name": "stderr",
     "output_type": "stream",
     "text": [
      "100%|██████████| 1875/1875 [00:08<00:00, 219.81it/s]\n"
     ]
    },
    {
     "name": "stdout",
     "output_type": "stream",
     "text": [
      "Epoch 22: loss: 106.28969522375337, train accuracy: 98.92666666666666, valid accuracy:90.86\n"
     ]
    },
    {
     "name": "stderr",
     "output_type": "stream",
     "text": [
      "100%|██████████| 1875/1875 [00:08<00:00, 218.55it/s]\n"
     ]
    },
    {
     "name": "stdout",
     "output_type": "stream",
     "text": [
      "Epoch 23: loss: 99.02392627814243, train accuracy: 97.86333333333333, valid accuracy:90.21\n"
     ]
    },
    {
     "name": "stderr",
     "output_type": "stream",
     "text": [
      "100%|██████████| 1875/1875 [00:09<00:00, 203.57it/s]\n"
     ]
    },
    {
     "name": "stdout",
     "output_type": "stream",
     "text": [
      "Epoch 24: loss: 98.54610830051206, train accuracy: 98.82666666666667, valid accuracy:90.78\n"
     ]
    },
    {
     "name": "stderr",
     "output_type": "stream",
     "text": [
      "100%|██████████| 1875/1875 [00:08<00:00, 215.62it/s]\n"
     ]
    },
    {
     "name": "stdout",
     "output_type": "stream",
     "text": [
      "Epoch 25: loss: 90.74040082228976, train accuracy: 98.68666666666667, valid accuracy:90.29\n"
     ]
    },
    {
     "name": "stderr",
     "output_type": "stream",
     "text": [
      "100%|██████████| 1875/1875 [00:08<00:00, 212.15it/s]\n"
     ]
    },
    {
     "name": "stdout",
     "output_type": "stream",
     "text": [
      "Epoch 26: loss: 85.44690199761453, train accuracy: 98.53, valid accuracy:90.26\n"
     ]
    },
    {
     "name": "stderr",
     "output_type": "stream",
     "text": [
      "100%|██████████| 1875/1875 [00:08<00:00, 215.74it/s]\n"
     ]
    },
    {
     "name": "stdout",
     "output_type": "stream",
     "text": [
      "Epoch 27: loss: 70.28960583376289, train accuracy: 99.25666666666666, valid accuracy:90.73\n"
     ]
    },
    {
     "name": "stderr",
     "output_type": "stream",
     "text": [
      "100%|██████████| 1875/1875 [00:08<00:00, 215.56it/s]\n"
     ]
    },
    {
     "name": "stdout",
     "output_type": "stream",
     "text": [
      "Epoch 28: loss: 59.84788088859477, train accuracy: 98.95, valid accuracy:90.71\n"
     ]
    },
    {
     "name": "stderr",
     "output_type": "stream",
     "text": [
      "100%|██████████| 1875/1875 [00:08<00:00, 219.24it/s]\n"
     ]
    },
    {
     "name": "stdout",
     "output_type": "stream",
     "text": [
      "Epoch 29: loss: 86.33592775917651, train accuracy: 98.995, valid accuracy:90.77\n"
     ]
    },
    {
     "name": "stderr",
     "output_type": "stream",
     "text": [
      "100%|██████████| 1875/1875 [00:08<00:00, 220.04it/s]\n"
     ]
    },
    {
     "name": "stdout",
     "output_type": "stream",
     "text": [
      "Epoch 30: loss: 89.88001223050415, train accuracy: 98.08666666666667, valid accuracy:89.75\n"
     ]
    },
    {
     "data": {
      "text/plain": [
       "<matplotlib.legend.Legend at 0x7f98b418c100>"
      ]
     },
     "execution_count": 20,
     "metadata": {},
     "output_type": "execute_result"
    },
    {
     "data": {
      "image/png": "[encoded data removed]",
      "text/plain": [
       "<Figure size 640x480 with 1 Axes>"
      ]
     },
     "metadata": {},
     "output_type": "display_data"
    }
   ],
   "source": [
    "class MyCNN(nn.Module):\n",
    "  def __init__(self):\n",
    "    super(MyCNN, self).__init__()\n",
    "\n",
    "    self.cnn_model = nn.Sequential(nn.Conv2d(1, 32, kernel_size = 5, stride=1), nn.ELU(), nn.MaxPool2d(2, stride=2), nn.Conv2d(32, 64, kernel_size = 5, stride = 1), nn.ELU(), nn.MaxPool2d(2, stride = 2))\n",
    "    self.fc_model = nn.Sequential(nn.Linear(1024, 1024), nn.ELU(), nn.Linear(1024,256), nn.ELU(), nn.Linear(256, 10))\n",
    " \n",
    "   \n",
    "  def forward(self, x):\n",
    "    x = self.cnn_model(x)\n",
    "    x =x.view(x.size(0), -1)\n",
    "    x = self.fc_model(x)\n",
    "    \n",
    "    return x\n",
    "def evaluation(dataloader):\n",
    "  total, correct = 0,0\n",
    "  net.eval()\n",
    "  for data in dataloader:\n",
    "    \n",
    "    inputs, labels = data\n",
    "    inputs, labels = inputs.to(device), labels.to(device)\n",
    "    outputs = net(inputs)\n",
    "    _, pred = torch.max(outputs.data, 1)\n",
    "    total += labels.size(0)\n",
    "    correct += (pred == labels).sum().item()\n",
    "  return 100 * correct / total\n",
    "def weights_init(m):\n",
    "    if isinstance(m, nn.Linear) or isinstance(m, nn.Conv2d):\n",
    "        torch.nn.init.xavier_normal_(m.weight)\n",
    "device = torch.device(\"cuda:0\")\n",
    "\n",
    "alpha = 0.1\n",
    "\n",
    "net = MyCNN().to(device)\n",
    "net.apply(weights_init)\n",
    "loss_fn = nn.CrossEntropyLoss()\n",
    "loss_fn.to(device)\n",
    "\n",
    "\n",
    "opt = torch.optim.SGD(list(net.parameters()), lr=alpha)\n",
    "    \n",
    "loss_epoch_array = []\n",
    "max_epochs = 30\n",
    "loss_epoch = 0\n",
    "train_accuracy = []\n",
    "test_accuracy = []\n",
    "\n",
    "for epoch in range(max_epochs):\n",
    "  \n",
    "  loss_epoch = 0\n",
    " \n",
    "  for i, data in enumerate(tqdm(train_loader), 0):\n",
    "    \n",
    "    net.train()\n",
    "    inputs, labels = data\n",
    "    inputs, labels = inputs.to(device), labels.to(device)\n",
    "    \n",
    "    opt.zero_grad()\n",
    "    outputs = net(inputs)\n",
    "    \n",
    "    loss = loss_fn(outputs, labels)\n",
    "    \n",
    "    loss.backward()\n",
    "    \n",
    "    opt.step()\n",
    "    \n",
    "    loss_epoch += loss.item()\n",
    "  \n",
    "  loss_epoch_array.append(loss_epoch)\n",
    "  train_accuracy.append(evaluation(train_loader))\n",
    "  test_accuracy.append(evaluation(test_loader))\n",
    "  print(\"Epoch {}: loss: {}, train accuracy: {}, valid accuracy:{}\".format(epoch + 1, loss_epoch_array[-1], train_accuracy[-1], test_accuracy[-1]))\n",
    "plt.xlabel(\"Epoch\")\n",
    "plt.ylabel(\"Accuracy\")\n",
    "plt.plot(train_accuracy, \"r\")\n",
    "plt.plot(test_accuracy, \"b\")\n",
    "plt.gca().legend(('train','test'))\n"
   ]
  },
  {
   "cell_type": "code",
   "execution_count": 21,
   "id": "6cecee05-6e1e-40fb-8dcf-c07ea8350946",
   "metadata": {},
   "outputs": [
    {
     "data": {
      "text/plain": [
       "[<matplotlib.lines.Line2D at 0x7f984604a470>]"
      ]
     },
     "execution_count": 21,
     "metadata": {},
     "output_type": "execute_result"
    },
    {
     "data": {
      "image/png": "[encoded data removed]",
      "text/plain": [
       "<Figure size 640x480 with 1 Axes>"
      ]
     },
     "metadata": {},
     "output_type": "display_data"
    }
   ],
   "source": [
    "plt.xlabel(\"Epoch\")\n",
    "plt.ylabel(\"Loss\")\n",
    "plt.plot(loss_epoch_array)"
   ]
  },
  {
   "cell_type": "markdown",
   "id": "646fd76e-16de-41a5-b238-870a179634fb",
   "metadata": {},
   "source": [
    "### Keeping Relu and changing learning rates\n",
    "### Alpha 0.001"
   ]
  },
  {
   "cell_type": "code",
   "execution_count": 6,
   "id": "1ad242d2-34bf-46bc-b7a0-441487015de0",
   "metadata": {},
   "outputs": [
    {
     "name": "stderr",
     "output_type": "stream",
     "text": [
      "100%|██████████| 1875/1875 [00:11<00:00, 165.60it/s]\n"
     ]
    },
    {
     "name": "stdout",
     "output_type": "stream",
     "text": [
      "Epoch 1: loss: 3618.7625079751015, train accuracy: 64.36333333333333, valid accuracy:63.84\n"
     ]
    },
    {
     "name": "stderr",
     "output_type": "stream",
     "text": [
      "100%|██████████| 1875/1875 [00:09<00:00, 204.61it/s]\n"
     ]
    },
    {
     "name": "stdout",
     "output_type": "stream",
     "text": [
      "Epoch 2: loss: 1625.5865469872952, train accuracy: 71.77333333333333, valid accuracy:70.98\n"
     ]
    },
    {
     "name": "stderr",
     "output_type": "stream",
     "text": [
      "100%|██████████| 1875/1875 [00:09<00:00, 207.65it/s]\n"
     ]
    },
    {
     "name": "stdout",
     "output_type": "stream",
     "text": [
      "Epoch 3: loss: 1368.8118923008442, train accuracy: 73.72, valid accuracy:73.12\n"
     ]
    },
    {
     "name": "stderr",
     "output_type": "stream",
     "text": [
      "100%|██████████| 1875/1875 [00:09<00:00, 203.01it/s]\n"
     ]
    },
    {
     "name": "stdout",
     "output_type": "stream",
     "text": [
      "Epoch 4: loss: 1264.5451478362083, train accuracy: 76.09, valid accuracy:74.84\n"
     ]
    },
    {
     "name": "stderr",
     "output_type": "stream",
     "text": [
      "100%|██████████| 1875/1875 [00:09<00:00, 207.65it/s]\n"
     ]
    },
    {
     "name": "stdout",
     "output_type": "stream",
     "text": [
      "Epoch 5: loss: 1194.796497270465, train accuracy: 77.55, valid accuracy:76.71\n"
     ]
    },
    {
     "name": "stderr",
     "output_type": "stream",
     "text": [
      "100%|██████████| 1875/1875 [00:09<00:00, 207.33it/s]\n"
     ]
    },
    {
     "name": "stdout",
     "output_type": "stream",
     "text": [
      "Epoch 6: loss: 1138.9642557650805, train accuracy: 77.77333333333333, valid accuracy:76.16\n"
     ]
    },
    {
     "name": "stderr",
     "output_type": "stream",
     "text": [
      "100%|██████████| 1875/1875 [00:08<00:00, 208.65it/s]\n"
     ]
    },
    {
     "name": "stdout",
     "output_type": "stream",
     "text": [
      "Epoch 7: loss: 1093.2708749771118, train accuracy: 77.66166666666666, valid accuracy:76.52\n"
     ]
    },
    {
     "name": "stderr",
     "output_type": "stream",
     "text": [
      "100%|██████████| 1875/1875 [00:08<00:00, 210.89it/s]\n"
     ]
    },
    {
     "name": "stdout",
     "output_type": "stream",
     "text": [
      "Epoch 8: loss: 1051.0584938079119, train accuracy: 80.03166666666667, valid accuracy:78.56\n"
     ]
    },
    {
     "name": "stderr",
     "output_type": "stream",
     "text": [
      "100%|██████████| 1875/1875 [00:09<00:00, 204.58it/s]\n"
     ]
    },
    {
     "name": "stdout",
     "output_type": "stream",
     "text": [
      "Epoch 9: loss: 1014.5397665798664, train accuracy: 81.05333333333333, valid accuracy:80.08\n"
     ]
    },
    {
     "name": "stderr",
     "output_type": "stream",
     "text": [
      "100%|██████████| 1875/1875 [00:09<00:00, 204.94it/s]\n"
     ]
    },
    {
     "name": "stdout",
     "output_type": "stream",
     "text": [
      "Epoch 10: loss: 983.0633935928345, train accuracy: 80.69, valid accuracy:79.82\n"
     ]
    },
    {
     "name": "stderr",
     "output_type": "stream",
     "text": [
      "100%|██████████| 1875/1875 [00:09<00:00, 200.76it/s]\n"
     ]
    },
    {
     "name": "stdout",
     "output_type": "stream",
     "text": [
      "Epoch 11: loss: 955.2759029865265, train accuracy: 81.84, valid accuracy:80.78\n"
     ]
    },
    {
     "name": "stderr",
     "output_type": "stream",
     "text": [
      "100%|██████████| 1875/1875 [00:09<00:00, 197.96it/s]\n"
     ]
    },
    {
     "name": "stdout",
     "output_type": "stream",
     "text": [
      "Epoch 12: loss: 927.8320671319962, train accuracy: 82.11666666666666, valid accuracy:80.91\n"
     ]
    },
    {
     "name": "stderr",
     "output_type": "stream",
     "text": [
      "100%|██████████| 1875/1875 [00:09<00:00, 207.83it/s]\n"
     ]
    },
    {
     "name": "stdout",
     "output_type": "stream",
     "text": [
      "Epoch 13: loss: 904.0755752772093, train accuracy: 83.37, valid accuracy:82.25\n"
     ]
    },
    {
     "name": "stderr",
     "output_type": "stream",
     "text": [
      "100%|██████████| 1875/1875 [00:08<00:00, 209.69it/s]\n"
     ]
    },
    {
     "name": "stdout",
     "output_type": "stream",
     "text": [
      "Epoch 14: loss: 883.5577346980572, train accuracy: 82.69, valid accuracy:81.32\n"
     ]
    },
    {
     "name": "stderr",
     "output_type": "stream",
     "text": [
      "100%|██████████| 1875/1875 [00:09<00:00, 206.82it/s]\n"
     ]
    },
    {
     "name": "stdout",
     "output_type": "stream",
     "text": [
      "Epoch 15: loss: 863.9517245590687, train accuracy: 84.09833333333333, valid accuracy:82.76\n"
     ]
    },
    {
     "name": "stderr",
     "output_type": "stream",
     "text": [
      "100%|██████████| 1875/1875 [00:09<00:00, 201.36it/s]\n"
     ]
    },
    {
     "name": "stdout",
     "output_type": "stream",
     "text": [
      "Epoch 16: loss: 844.9670797884464, train accuracy: 84.65333333333334, valid accuracy:83.48\n"
     ]
    },
    {
     "name": "stderr",
     "output_type": "stream",
     "text": [
      "100%|██████████| 1875/1875 [00:09<00:00, 199.82it/s]\n"
     ]
    },
    {
     "name": "stdout",
     "output_type": "stream",
     "text": [
      "Epoch 17: loss: 827.492190785706, train accuracy: 84.635, valid accuracy:83.45\n"
     ]
    },
    {
     "name": "stderr",
     "output_type": "stream",
     "text": [
      "100%|██████████| 1875/1875 [00:09<00:00, 202.78it/s]\n"
     ]
    },
    {
     "name": "stdout",
     "output_type": "stream",
     "text": [
      "Epoch 18: loss: 809.3369149267673, train accuracy: 83.775, valid accuracy:82.9\n"
     ]
    },
    {
     "name": "stderr",
     "output_type": "stream",
     "text": [
      "100%|██████████| 1875/1875 [00:09<00:00, 198.93it/s]\n"
     ]
    },
    {
     "name": "stdout",
     "output_type": "stream",
     "text": [
      "Epoch 19: loss: 797.0798190832138, train accuracy: 85.275, valid accuracy:84.17\n"
     ]
    },
    {
     "name": "stderr",
     "output_type": "stream",
     "text": [
      "100%|██████████| 1875/1875 [00:09<00:00, 201.81it/s]\n"
     ]
    },
    {
     "name": "stdout",
     "output_type": "stream",
     "text": [
      "Epoch 20: loss: 780.6656515076756, train accuracy: 85.75833333333334, valid accuracy:84.57\n"
     ]
    },
    {
     "name": "stderr",
     "output_type": "stream",
     "text": [
      "100%|██████████| 1875/1875 [00:09<00:00, 201.73it/s]\n"
     ]
    },
    {
     "name": "stdout",
     "output_type": "stream",
     "text": [
      "Epoch 21: loss: 767.9039840623736, train accuracy: 85.93833333333333, valid accuracy:84.89\n"
     ]
    },
    {
     "name": "stderr",
     "output_type": "stream",
     "text": [
      "100%|██████████| 1875/1875 [00:09<00:00, 204.03it/s]\n"
     ]
    },
    {
     "name": "stdout",
     "output_type": "stream",
     "text": [
      "Epoch 22: loss: 754.2774908691645, train accuracy: 85.735, valid accuracy:84.51\n"
     ]
    },
    {
     "name": "stderr",
     "output_type": "stream",
     "text": [
      "100%|██████████| 1875/1875 [00:09<00:00, 207.61it/s]\n"
     ]
    },
    {
     "name": "stdout",
     "output_type": "stream",
     "text": [
      "Epoch 23: loss: 742.4782672673464, train accuracy: 85.85166666666667, valid accuracy:84.81\n"
     ]
    },
    {
     "name": "stderr",
     "output_type": "stream",
     "text": [
      "100%|██████████| 1875/1875 [00:09<00:00, 204.67it/s]\n"
     ]
    },
    {
     "name": "stdout",
     "output_type": "stream",
     "text": [
      "Epoch 24: loss: 731.3893506526947, train accuracy: 86.66833333333334, valid accuracy:85.2\n"
     ]
    },
    {
     "name": "stderr",
     "output_type": "stream",
     "text": [
      "100%|██████████| 1875/1875 [00:09<00:00, 208.09it/s]\n"
     ]
    },
    {
     "name": "stdout",
     "output_type": "stream",
     "text": [
      "Epoch 25: loss: 721.6437464430928, train accuracy: 86.995, valid accuracy:85.8\n"
     ]
    },
    {
     "name": "stderr",
     "output_type": "stream",
     "text": [
      "100%|██████████| 1875/1875 [00:09<00:00, 206.63it/s]\n"
     ]
    },
    {
     "name": "stdout",
     "output_type": "stream",
     "text": [
      "Epoch 26: loss: 710.9612256884575, train accuracy: 86.71833333333333, valid accuracy:85.47\n"
     ]
    },
    {
     "name": "stderr",
     "output_type": "stream",
     "text": [
      "100%|██████████| 1875/1875 [00:09<00:00, 207.66it/s]\n"
     ]
    },
    {
     "name": "stdout",
     "output_type": "stream",
     "text": [
      "Epoch 27: loss: 700.5411175563931, train accuracy: 86.51333333333334, valid accuracy:85.1\n"
     ]
    },
    {
     "name": "stderr",
     "output_type": "stream",
     "text": [
      "100%|██████████| 1875/1875 [00:09<00:00, 206.12it/s]\n"
     ]
    },
    {
     "name": "stdout",
     "output_type": "stream",
     "text": [
      "Epoch 28: loss: 691.4182823002338, train accuracy: 85.875, valid accuracy:84.69\n"
     ]
    },
    {
     "name": "stderr",
     "output_type": "stream",
     "text": [
      "100%|██████████| 1875/1875 [00:08<00:00, 210.56it/s]\n"
     ]
    },
    {
     "name": "stdout",
     "output_type": "stream",
     "text": [
      "Epoch 29: loss: 682.8402793183923, train accuracy: 86.37166666666667, valid accuracy:84.88\n"
     ]
    },
    {
     "name": "stderr",
     "output_type": "stream",
     "text": [
      "100%|██████████| 1875/1875 [00:09<00:00, 205.88it/s]\n"
     ]
    },
    {
     "name": "stdout",
     "output_type": "stream",
     "text": [
      "Epoch 30: loss: 674.9383529052138, train accuracy: 87.64666666666666, valid accuracy:86.65\n"
     ]
    },
    {
     "data": {
      "text/plain": [
       "<matplotlib.legend.Legend at 0x7fc2f2487b80>"
      ]
     },
     "execution_count": 6,
     "metadata": {},
     "output_type": "execute_result"
    },
    {
     "data": {
      "image/png": "[encoded data removed]",
      "text/plain": [
       "<Figure size 640x480 with 1 Axes>"
      ]
     },
     "metadata": {},
     "output_type": "display_data"
    }
   ],
   "source": [
    "class MyCNN(nn.Module):\n",
    "  def __init__(self):\n",
    "    super(MyCNN, self).__init__()\n",
    "\n",
    "    self.cnn_model = nn.Sequential(nn.Conv2d(1, 32, kernel_size = 5, stride=1), nn.ReLU(), nn.MaxPool2d(2, stride=2), nn.Conv2d(32, 64, kernel_size = 5, stride = 1), nn.ReLU(), nn.MaxPool2d(2, stride = 2))\n",
    "    self.fc_model = nn.Sequential(nn.Linear(1024, 1024), nn.ReLU(), nn.Linear(1024,256), nn.ReLU(), nn.Linear(256, 10))\n",
    " \n",
    "   \n",
    "  def forward(self, x):\n",
    "    x = self.cnn_model(x)\n",
    "    x =x.view(x.size(0), -1)\n",
    "    x = self.fc_model(x)\n",
    "    \n",
    "    return x\n",
    "def evaluation(dataloader):\n",
    "  total, correct = 0,0\n",
    "  net.eval()\n",
    "  for data in dataloader:\n",
    "    \n",
    "    inputs, labels = data\n",
    "    inputs, labels = inputs.to(device), labels.to(device)\n",
    "    outputs = net(inputs)\n",
    "    _, pred = torch.max(outputs.data, 1)\n",
    "    total += labels.size(0)\n",
    "    correct += (pred == labels).sum().item()\n",
    "  return 100 * correct / total\n",
    "def weights_init(m):\n",
    "    if isinstance(m, nn.Linear) or isinstance(m, nn.Conv2d):\n",
    "        torch.nn.init.xavier_normal_(m.weight)\n",
    "device = torch.device(\"cuda:0\")\n",
    "\n",
    "alpha = 0.001\n",
    "\n",
    "net = MyCNN().to(device)\n",
    "net.apply(weights_init)\n",
    "loss_fn = nn.CrossEntropyLoss()\n",
    "loss_fn.to(device)\n",
    "\n",
    "\n",
    "opt = torch.optim.SGD(list(net.parameters()), lr=alpha)\n",
    "    \n",
    "loss_epoch_array = []\n",
    "max_epochs = 30\n",
    "loss_epoch = 0\n",
    "train_accuracy = []\n",
    "test_accuracy = []\n",
    "\n",
    "for epoch in range(max_epochs):\n",
    "  \n",
    "  loss_epoch = 0\n",
    "  \n",
    "  for i, data in enumerate(tqdm(train_loader), 0):\n",
    "    \n",
    "    net.train()\n",
    "    inputs, labels = data\n",
    "    inputs, labels = inputs.to(device), labels.to(device)\n",
    "   \n",
    "    opt.zero_grad()\n",
    "    outputs = net(inputs)\n",
    "    \n",
    "    loss = loss_fn(outputs, labels)\n",
    "    \n",
    "    loss.backward()\n",
    "\n",
    "    opt.step()\n",
    "    \n",
    "    loss_epoch += loss.item()\n",
    "  \n",
    "  loss_epoch_array.append(loss_epoch)\n",
    "  train_accuracy.append(evaluation(train_loader))\n",
    "  test_accuracy.append(evaluation(test_loader))\n",
    "  print(\"Epoch {}: loss: {}, train accuracy: {}, valid accuracy:{}\".format(epoch + 1, loss_epoch_array[-1], train_accuracy[-1], test_accuracy[-1]))\n",
    "plt.xlabel(\"Epoch\")\n",
    "plt.ylabel(\"Accuracy\")\n",
    "plt.plot(train_accuracy, \"r\")\n",
    "plt.plot(test_accuracy, \"b\")\n",
    "plt.gca().legend(('train','test'))\n"
   ]
  },
  {
   "cell_type": "code",
   "execution_count": 6,
   "id": "0e0951cf-64b7-42f1-85b3-e6be8f4e6e43",
   "metadata": {},
   "outputs": [
    {
     "data": {
      "text/plain": [
       "[<matplotlib.lines.Line2D at 0x7f41e0620430>]"
      ]
     },
     "execution_count": 6,
     "metadata": {},
     "output_type": "execute_result"
    },
    {
     "data": {
      "image/png": "[encoded data removed]",
      "text/plain": [
       "<Figure size 640x480 with 1 Axes>"
      ]
     },
     "metadata": {},
     "output_type": "display_data"
    }
   ],
   "source": [
    "plt.xlabel(\"Epoch\")\n",
    "plt.ylabel(\"Loss\")\n",
    "plt.plot(loss_epoch_array)"
   ]
  },
  {
   "cell_type": "markdown",
   "id": "5cbca3e8-b184-40ff-8ec2-b0515768bca0",
   "metadata": {},
   "source": [
    "### Alpha 0.1"
   ]
  },
  {
   "cell_type": "code",
   "execution_count": 14,
   "id": "8dc9e092-222b-4a1b-8822-0bf384fa160b",
   "metadata": {},
   "outputs": [
    {
     "name": "stderr",
     "output_type": "stream",
     "text": [
      "100%|██████████| 1875/1875 [00:09<00:00, 205.67it/s]\n"
     ]
    },
    {
     "name": "stdout",
     "output_type": "stream",
     "text": [
      "Epoch 1: loss: 1007.7773669958115, train accuracy: 87.395, valid accuracy:86.5\n"
     ]
    },
    {
     "name": "stderr",
     "output_type": "stream",
     "text": [
      "100%|██████████| 1875/1875 [00:09<00:00, 202.15it/s]\n"
     ]
    },
    {
     "name": "stdout",
     "output_type": "stream",
     "text": [
      "Epoch 2: loss: 618.6795137301087, train accuracy: 89.09333333333333, valid accuracy:87.8\n"
     ]
    },
    {
     "name": "stderr",
     "output_type": "stream",
     "text": [
      "100%|██████████| 1875/1875 [00:09<00:00, 206.71it/s]\n"
     ]
    },
    {
     "name": "stdout",
     "output_type": "stream",
     "text": [
      "Epoch 3: loss: 525.0203105658293, train accuracy: 89.96666666666667, valid accuracy:88.16\n"
     ]
    },
    {
     "name": "stderr",
     "output_type": "stream",
     "text": [
      "100%|██████████| 1875/1875 [00:08<00:00, 210.65it/s]\n"
     ]
    },
    {
     "name": "stdout",
     "output_type": "stream",
     "text": [
      "Epoch 4: loss: 467.42307693324983, train accuracy: 91.94333333333333, valid accuracy:89.74\n"
     ]
    },
    {
     "name": "stderr",
     "output_type": "stream",
     "text": [
      "100%|██████████| 1875/1875 [00:08<00:00, 210.68it/s]\n"
     ]
    },
    {
     "name": "stdout",
     "output_type": "stream",
     "text": [
      "Epoch 5: loss: 421.17080923262984, train accuracy: 92.49666666666667, valid accuracy:89.87\n"
     ]
    },
    {
     "name": "stderr",
     "output_type": "stream",
     "text": [
      "100%|██████████| 1875/1875 [00:08<00:00, 212.64it/s]\n"
     ]
    },
    {
     "name": "stdout",
     "output_type": "stream",
     "text": [
      "Epoch 6: loss: 385.1089514438063, train accuracy: 93.65833333333333, valid accuracy:90.82\n"
     ]
    },
    {
     "name": "stderr",
     "output_type": "stream",
     "text": [
      "100%|██████████| 1875/1875 [00:08<00:00, 209.49it/s]\n"
     ]
    },
    {
     "name": "stdout",
     "output_type": "stream",
     "text": [
      "Epoch 7: loss: 346.8623000080697, train accuracy: 93.88333333333334, valid accuracy:90.36\n"
     ]
    },
    {
     "name": "stderr",
     "output_type": "stream",
     "text": [
      "100%|██████████| 1875/1875 [00:08<00:00, 213.40it/s]\n"
     ]
    },
    {
     "name": "stdout",
     "output_type": "stream",
     "text": [
      "Epoch 8: loss: 313.4465536158532, train accuracy: 94.465, valid accuracy:90.6\n"
     ]
    },
    {
     "name": "stderr",
     "output_type": "stream",
     "text": [
      "100%|██████████| 1875/1875 [00:08<00:00, 210.60it/s]\n"
     ]
    },
    {
     "name": "stdout",
     "output_type": "stream",
     "text": [
      "Epoch 9: loss: 283.3843881590292, train accuracy: 95.01166666666667, valid accuracy:90.41\n"
     ]
    },
    {
     "name": "stderr",
     "output_type": "stream",
     "text": [
      "100%|██████████| 1875/1875 [00:08<00:00, 211.61it/s]\n"
     ]
    },
    {
     "name": "stdout",
     "output_type": "stream",
     "text": [
      "Epoch 10: loss: 255.1332191277761, train accuracy: 96.03, valid accuracy:90.92\n"
     ]
    },
    {
     "name": "stderr",
     "output_type": "stream",
     "text": [
      "100%|██████████| 1875/1875 [00:08<00:00, 210.53it/s]\n"
     ]
    },
    {
     "name": "stdout",
     "output_type": "stream",
     "text": [
      "Epoch 11: loss: 231.0895128333941, train accuracy: 96.27, valid accuracy:90.98\n"
     ]
    },
    {
     "name": "stderr",
     "output_type": "stream",
     "text": [
      "100%|██████████| 1875/1875 [00:08<00:00, 213.60it/s]\n"
     ]
    },
    {
     "name": "stdout",
     "output_type": "stream",
     "text": [
      "Epoch 12: loss: 210.26857284433208, train accuracy: 96.38333333333334, valid accuracy:90.87\n"
     ]
    },
    {
     "name": "stderr",
     "output_type": "stream",
     "text": [
      "100%|██████████| 1875/1875 [00:09<00:00, 205.03it/s]\n"
     ]
    },
    {
     "name": "stdout",
     "output_type": "stream",
     "text": [
      "Epoch 13: loss: 181.5737857320346, train accuracy: 97.45666666666666, valid accuracy:91.28\n"
     ]
    },
    {
     "name": "stderr",
     "output_type": "stream",
     "text": [
      "100%|██████████| 1875/1875 [00:08<00:00, 211.11it/s]\n"
     ]
    },
    {
     "name": "stdout",
     "output_type": "stream",
     "text": [
      "Epoch 14: loss: 161.7903630810324, train accuracy: 97.175, valid accuracy:90.79\n"
     ]
    },
    {
     "name": "stderr",
     "output_type": "stream",
     "text": [
      "100%|██████████| 1875/1875 [00:08<00:00, 208.56it/s]\n"
     ]
    },
    {
     "name": "stdout",
     "output_type": "stream",
     "text": [
      "Epoch 15: loss: 155.48488158232067, train accuracy: 96.7, valid accuracy:90.18\n"
     ]
    },
    {
     "name": "stderr",
     "output_type": "stream",
     "text": [
      "100%|██████████| 1875/1875 [00:08<00:00, 210.15it/s]\n"
     ]
    },
    {
     "name": "stdout",
     "output_type": "stream",
     "text": [
      "Epoch 16: loss: 142.73610039107734, train accuracy: 97.74333333333334, valid accuracy:91.09\n"
     ]
    },
    {
     "name": "stderr",
     "output_type": "stream",
     "text": [
      "100%|██████████| 1875/1875 [00:08<00:00, 211.46it/s]\n"
     ]
    },
    {
     "name": "stdout",
     "output_type": "stream",
     "text": [
      "Epoch 17: loss: 125.57003640670155, train accuracy: 98.19, valid accuracy:90.9\n"
     ]
    },
    {
     "name": "stderr",
     "output_type": "stream",
     "text": [
      "100%|██████████| 1875/1875 [00:09<00:00, 208.19it/s]\n"
     ]
    },
    {
     "name": "stdout",
     "output_type": "stream",
     "text": [
      "Epoch 18: loss: 112.11161753023043, train accuracy: 98.295, valid accuracy:90.74\n"
     ]
    },
    {
     "name": "stderr",
     "output_type": "stream",
     "text": [
      "100%|██████████| 1875/1875 [00:09<00:00, 205.66it/s]\n"
     ]
    },
    {
     "name": "stdout",
     "output_type": "stream",
     "text": [
      "Epoch 19: loss: 116.46319820603821, train accuracy: 98.09166666666667, valid accuracy:91.19\n"
     ]
    },
    {
     "name": "stderr",
     "output_type": "stream",
     "text": [
      "100%|██████████| 1875/1875 [00:09<00:00, 206.66it/s]\n"
     ]
    },
    {
     "name": "stdout",
     "output_type": "stream",
     "text": [
      "Epoch 20: loss: 101.4108241571812, train accuracy: 97.84666666666666, valid accuracy:90.77\n"
     ]
    },
    {
     "name": "stderr",
     "output_type": "stream",
     "text": [
      "100%|██████████| 1875/1875 [00:09<00:00, 208.33it/s]\n"
     ]
    },
    {
     "name": "stdout",
     "output_type": "stream",
     "text": [
      "Epoch 21: loss: 99.197858064319, train accuracy: 98.51, valid accuracy:90.92\n"
     ]
    },
    {
     "name": "stderr",
     "output_type": "stream",
     "text": [
      "100%|██████████| 1875/1875 [00:09<00:00, 204.86it/s]\n"
     ]
    },
    {
     "name": "stdout",
     "output_type": "stream",
     "text": [
      "Epoch 22: loss: 94.67617718080874, train accuracy: 98.23166666666667, valid accuracy:90.55\n"
     ]
    },
    {
     "name": "stderr",
     "output_type": "stream",
     "text": [
      "100%|██████████| 1875/1875 [00:09<00:00, 207.79it/s]\n"
     ]
    },
    {
     "name": "stdout",
     "output_type": "stream",
     "text": [
      "Epoch 23: loss: 82.54937078527291, train accuracy: 98.11333333333333, valid accuracy:90.29\n"
     ]
    },
    {
     "name": "stderr",
     "output_type": "stream",
     "text": [
      "100%|██████████| 1875/1875 [00:08<00:00, 209.28it/s]\n"
     ]
    },
    {
     "name": "stdout",
     "output_type": "stream",
     "text": [
      "Epoch 24: loss: 71.85062555948537, train accuracy: 98.78833333333333, valid accuracy:90.85\n"
     ]
    },
    {
     "name": "stderr",
     "output_type": "stream",
     "text": [
      "100%|██████████| 1875/1875 [00:08<00:00, 209.19it/s]\n"
     ]
    },
    {
     "name": "stdout",
     "output_type": "stream",
     "text": [
      "Epoch 25: loss: 60.207135667873445, train accuracy: 99.23, valid accuracy:91.43\n"
     ]
    },
    {
     "name": "stderr",
     "output_type": "stream",
     "text": [
      "100%|██████████| 1875/1875 [00:08<00:00, 210.12it/s]\n"
     ]
    },
    {
     "name": "stdout",
     "output_type": "stream",
     "text": [
      "Epoch 26: loss: 64.36050524171878, train accuracy: 99.34166666666667, valid accuracy:91.18\n"
     ]
    },
    {
     "name": "stderr",
     "output_type": "stream",
     "text": [
      "100%|██████████| 1875/1875 [00:09<00:00, 206.96it/s]\n"
     ]
    },
    {
     "name": "stdout",
     "output_type": "stream",
     "text": [
      "Epoch 27: loss: 61.19558649375358, train accuracy: 99.11666666666666, valid accuracy:90.66\n"
     ]
    },
    {
     "name": "stderr",
     "output_type": "stream",
     "text": [
      "100%|██████████| 1875/1875 [00:09<00:00, 207.28it/s]\n"
     ]
    },
    {
     "name": "stdout",
     "output_type": "stream",
     "text": [
      "Epoch 28: loss: 53.91524251549163, train accuracy: 99.22333333333333, valid accuracy:91.17\n"
     ]
    },
    {
     "name": "stderr",
     "output_type": "stream",
     "text": [
      "100%|██████████| 1875/1875 [00:09<00:00, 206.13it/s]\n"
     ]
    },
    {
     "name": "stdout",
     "output_type": "stream",
     "text": [
      "Epoch 29: loss: 42.08377413471658, train accuracy: 99.52833333333334, valid accuracy:91.2\n"
     ]
    },
    {
     "name": "stderr",
     "output_type": "stream",
     "text": [
      "100%|██████████| 1875/1875 [00:09<00:00, 207.19it/s]\n"
     ]
    },
    {
     "name": "stdout",
     "output_type": "stream",
     "text": [
      "Epoch 30: loss: 48.886392472760235, train accuracy: 99.09333333333333, valid accuracy:90.93\n"
     ]
    },
    {
     "data": {
      "text/plain": [
       "<matplotlib.legend.Legend at 0x7fc2d78c77c0>"
      ]
     },
     "execution_count": 14,
     "metadata": {},
     "output_type": "execute_result"
    },
    {
     "data": {
      "image/png": "[encoded data removed]",
      "text/plain": [
       "<Figure size 640x480 with 1 Axes>"
      ]
     },
     "metadata": {},
     "output_type": "display_data"
    }
   ],
   "source": [
    "class MyCNN(nn.Module):\n",
    "  def __init__(self):\n",
    "    super(MyCNN, self).__init__()\n",
    "\n",
    "    self.cnn_model = nn.Sequential(nn.Conv2d(1, 32, kernel_size = 5, stride=1), nn.ReLU(), nn.MaxPool2d(2, stride=2), nn.Conv2d(32, 64, kernel_size = 5, stride = 1), nn.ReLU(), nn.MaxPool2d(2, stride = 2))\n",
    "    self.fc_model = nn.Sequential(nn.Linear(1024, 1024), nn.ReLU(), nn.Linear(1024,256), nn.ReLU(), nn.Linear(256, 10))\n",
    " \n",
    "   \n",
    "  def forward(self, x):\n",
    "    x = self.cnn_model(x)\n",
    "    x =x.view(x.size(0), -1)\n",
    "    x = self.fc_model(x)\n",
    "    \n",
    "    return x\n",
    "def evaluation(dataloader):\n",
    "  total, correct = 0,0\n",
    "  net.eval()\n",
    "  for data in dataloader:\n",
    "    \n",
    "    inputs, labels = data\n",
    "    inputs, labels = inputs.to(device), labels.to(device)\n",
    "    outputs = net(inputs)\n",
    "    _, pred = torch.max(outputs.data, 1)\n",
    "    total += labels.size(0)\n",
    "    correct += (pred == labels).sum().item()\n",
    "  return 100 * correct / total\n",
    "def weights_init(m):\n",
    "    if isinstance(m, nn.Linear) or isinstance(m, nn.Conv2d):\n",
    "        torch.nn.init.xavier_normal_(m.weight)\n",
    "device = torch.device(\"cuda:0\")\n",
    "\n",
    "alpha = 0.1\n",
    "\n",
    "net = MyCNN().to(device)\n",
    "net.apply(weights_init)\n",
    "loss_fn = nn.CrossEntropyLoss()\n",
    "loss_fn.to(device)\n",
    "\n",
    "\n",
    "opt = torch.optim.SGD(list(net.parameters()), lr=alpha)\n",
    "    \n",
    "loss_epoch_array = []\n",
    "max_epochs = 30\n",
    "loss_epoch = 0\n",
    "train_accuracy = []\n",
    "test_accuracy = []\n",
    "\n",
    "for epoch in range(max_epochs):\n",
    "  \n",
    "  loss_epoch = 0\n",
    "  \n",
    "  for i, data in enumerate(tqdm(train_loader), 0):\n",
    "    \n",
    "    net.train()\n",
    "    inputs, labels = data\n",
    "    inputs, labels = inputs.to(device), labels.to(device)\n",
    "    \n",
    "    opt.zero_grad()\n",
    "    outputs = net(inputs)\n",
    "    \n",
    "    loss = loss_fn(outputs, labels)\n",
    "    \n",
    "    loss.backward()\n",
    "    \n",
    "    opt.step()\n",
    "    \n",
    "    loss_epoch += loss.item()\n",
    "  \n",
    "  loss_epoch_array.append(loss_epoch)\n",
    "  train_accuracy.append(evaluation(train_loader))\n",
    "  test_accuracy.append(evaluation(test_loader))\n",
    "  print(\"Epoch {}: loss: {}, train accuracy: {}, valid accuracy:{}\".format(epoch + 1, loss_epoch_array[-1], train_accuracy[-1], test_accuracy[-1]))\n",
    "plt.xlabel(\"Epoch\")\n",
    "plt.ylabel(\"Accuracy\")\n",
    "plt.plot(train_accuracy, \"r\")\n",
    "plt.plot(test_accuracy, \"b\")\n",
    "plt.gca().legend(('train','test'))\n"
   ]
  },
  {
   "cell_type": "markdown",
   "id": "050136df-d2be-4970-aabb-5b35b4beec28",
   "metadata": {},
   "source": [
    "### Alpha 0.5"
   ]
  },
  {
   "cell_type": "code",
   "execution_count": 15,
   "id": "8a3347a9-0d85-401a-b943-fd60486ab1d8",
   "metadata": {},
   "outputs": [],
   "source": [
    "class MyCNN(nn.Module):\n",
    "  def __init__(self):\n",
    "    super(MyCNN, self).__init__()\n",
    "\n",
    "    self.cnn_model = nn.Sequential(nn.Conv2d(1, 32, kernel_size = 5, stride=1), nn.ReLU(), nn.MaxPool2d(2, stride=2), nn.Conv2d(32, 64, kernel_size = 5, stride = 1), nn.ReLU(), nn.MaxPool2d(2, stride = 2))\n",
    "    self.fc_model = nn.Sequential(nn.Linear(1024, 1024), nn.ReLU(), nn.Linear(1024,256), nn.ReLU(), nn.Linear(256, 10))\n",
    " \n",
    "   \n",
    "  def forward(self, x):\n",
    "    x = self.cnn_model(x)\n",
    "    x =x.view(x.size(0), -1)\n",
    "    x = self.fc_model(x)\n",
    "    \n",
    "    return x\n",
    "def evaluation(dataloader):\n",
    "  total, correct = 0,0\n",
    "  net.eval()\n",
    "  for data in dataloader:\n",
    "    \n",
    "    inputs, labels = data\n",
    "    inputs, labels = inputs.to(device), labels.to(device)\n",
    "    outputs = net(inputs)\n",
    "    _, pred = torch.max(outputs.data, 1)\n",
    "    total += labels.size(0)\n",
    "    correct += (pred == labels).sum().item()\n",
    "  return 100 * correct / total\n",
    "def weights_init(m):\n",
    "    if isinstance(m, nn.Linear) or isinstance(m, nn.Conv2d):\n",
    "        torch.nn.init.xavier_normal_(m.weight)\n"
   ]
  },
  {
   "cell_type": "code",
   "execution_count": 16,
   "id": "508a20de-5c19-493d-a75d-26bd5b42e95c",
   "metadata": {},
   "outputs": [
    {
     "name": "stderr",
     "output_type": "stream",
     "text": [
      "100%|██████████| 1875/1875 [00:09<00:00, 202.37it/s]\n"
     ]
    },
    {
     "name": "stdout",
     "output_type": "stream",
     "text": [
      "Epoch 1: loss: 4327.25992667675, train accuracy: 10.0, valid accuracy:10.0\n"
     ]
    },
    {
     "name": "stderr",
     "output_type": "stream",
     "text": [
      "100%|██████████| 1875/1875 [00:09<00:00, 204.62it/s]\n"
     ]
    },
    {
     "name": "stdout",
     "output_type": "stream",
     "text": [
      "Epoch 2: loss: 4324.134275436401, train accuracy: 10.0, valid accuracy:10.0\n"
     ]
    },
    {
     "name": "stderr",
     "output_type": "stream",
     "text": [
      "100%|██████████| 1875/1875 [00:09<00:00, 208.05it/s]\n"
     ]
    },
    {
     "name": "stdout",
     "output_type": "stream",
     "text": [
      "Epoch 3: loss: 4324.325354337692, train accuracy: 10.0, valid accuracy:10.0\n"
     ]
    },
    {
     "name": "stderr",
     "output_type": "stream",
     "text": [
      "100%|██████████| 1875/1875 [00:09<00:00, 204.46it/s]\n"
     ]
    },
    {
     "name": "stdout",
     "output_type": "stream",
     "text": [
      "Epoch 4: loss: 4324.205881118774, train accuracy: 10.0, valid accuracy:10.0\n"
     ]
    },
    {
     "name": "stderr",
     "output_type": "stream",
     "text": [
      "100%|██████████| 1875/1875 [00:08<00:00, 208.61it/s]\n"
     ]
    },
    {
     "name": "stdout",
     "output_type": "stream",
     "text": [
      "Epoch 5: loss: 4324.374022245407, train accuracy: 10.0, valid accuracy:10.0\n"
     ]
    },
    {
     "name": "stderr",
     "output_type": "stream",
     "text": [
      "100%|██████████| 1875/1875 [00:09<00:00, 203.56it/s]\n"
     ]
    },
    {
     "name": "stdout",
     "output_type": "stream",
     "text": [
      "Epoch 6: loss: 4324.437336921692, train accuracy: 10.0, valid accuracy:10.0\n"
     ]
    },
    {
     "name": "stderr",
     "output_type": "stream",
     "text": [
      "100%|██████████| 1875/1875 [00:09<00:00, 205.01it/s]\n"
     ]
    },
    {
     "name": "stdout",
     "output_type": "stream",
     "text": [
      "Epoch 7: loss: 4324.227868080139, train accuracy: 10.0, valid accuracy:10.0\n"
     ]
    },
    {
     "name": "stderr",
     "output_type": "stream",
     "text": [
      "100%|██████████| 1875/1875 [00:09<00:00, 206.64it/s]\n"
     ]
    },
    {
     "name": "stdout",
     "output_type": "stream",
     "text": [
      "Epoch 8: loss: 4323.8999099731445, train accuracy: 10.0, valid accuracy:10.0\n"
     ]
    },
    {
     "name": "stderr",
     "output_type": "stream",
     "text": [
      "100%|██████████| 1875/1875 [00:08<00:00, 208.58it/s]\n"
     ]
    },
    {
     "name": "stdout",
     "output_type": "stream",
     "text": [
      "Epoch 9: loss: 4324.346138715744, train accuracy: 10.0, valid accuracy:10.0\n"
     ]
    },
    {
     "name": "stderr",
     "output_type": "stream",
     "text": [
      "100%|██████████| 1875/1875 [00:09<00:00, 208.08it/s]\n"
     ]
    },
    {
     "name": "stdout",
     "output_type": "stream",
     "text": [
      "Epoch 10: loss: 4324.326446771622, train accuracy: 10.0, valid accuracy:10.0\n"
     ]
    },
    {
     "name": "stderr",
     "output_type": "stream",
     "text": [
      "100%|██████████| 1875/1875 [00:09<00:00, 206.26it/s]\n"
     ]
    },
    {
     "name": "stdout",
     "output_type": "stream",
     "text": [
      "Epoch 11: loss: 4324.4994597435, train accuracy: 10.0, valid accuracy:10.0\n"
     ]
    },
    {
     "name": "stderr",
     "output_type": "stream",
     "text": [
      "100%|██████████| 1875/1875 [00:08<00:00, 211.54it/s]\n"
     ]
    },
    {
     "name": "stdout",
     "output_type": "stream",
     "text": [
      "Epoch 12: loss: 4324.576979637146, train accuracy: 10.0, valid accuracy:10.0\n"
     ]
    },
    {
     "name": "stderr",
     "output_type": "stream",
     "text": [
      "100%|██████████| 1875/1875 [00:08<00:00, 218.66it/s]\n"
     ]
    },
    {
     "name": "stdout",
     "output_type": "stream",
     "text": [
      "Epoch 13: loss: 4323.885257959366, train accuracy: 10.0, valid accuracy:10.0\n"
     ]
    },
    {
     "name": "stderr",
     "output_type": "stream",
     "text": [
      "100%|██████████| 1875/1875 [00:08<00:00, 213.29it/s]\n"
     ]
    },
    {
     "name": "stdout",
     "output_type": "stream",
     "text": [
      "Epoch 14: loss: 4324.636081695557, train accuracy: 10.0, valid accuracy:10.0\n"
     ]
    },
    {
     "name": "stderr",
     "output_type": "stream",
     "text": [
      "100%|██████████| 1875/1875 [00:08<00:00, 211.72it/s]\n"
     ]
    },
    {
     "name": "stdout",
     "output_type": "stream",
     "text": [
      "Epoch 15: loss: 4324.765920639038, train accuracy: 10.0, valid accuracy:10.0\n"
     ]
    },
    {
     "name": "stderr",
     "output_type": "stream",
     "text": [
      "100%|██████████| 1875/1875 [00:08<00:00, 212.44it/s]\n"
     ]
    },
    {
     "name": "stdout",
     "output_type": "stream",
     "text": [
      "Epoch 16: loss: 4323.952121019363, train accuracy: 10.0, valid accuracy:10.0\n"
     ]
    },
    {
     "name": "stderr",
     "output_type": "stream",
     "text": [
      "100%|██████████| 1875/1875 [00:08<00:00, 213.58it/s]\n"
     ]
    },
    {
     "name": "stdout",
     "output_type": "stream",
     "text": [
      "Epoch 17: loss: 4324.43915605545, train accuracy: 10.0, valid accuracy:10.0\n"
     ]
    },
    {
     "name": "stderr",
     "output_type": "stream",
     "text": [
      "100%|██████████| 1875/1875 [00:08<00:00, 214.32it/s]\n"
     ]
    },
    {
     "name": "stdout",
     "output_type": "stream",
     "text": [
      "Epoch 18: loss: 4324.362956285477, train accuracy: 10.0, valid accuracy:10.0\n"
     ]
    },
    {
     "name": "stderr",
     "output_type": "stream",
     "text": [
      "100%|██████████| 1875/1875 [00:08<00:00, 213.40it/s]\n"
     ]
    },
    {
     "name": "stdout",
     "output_type": "stream",
     "text": [
      "Epoch 19: loss: 4324.302263975143, train accuracy: 10.0, valid accuracy:10.0\n"
     ]
    },
    {
     "name": "stderr",
     "output_type": "stream",
     "text": [
      "100%|██████████| 1875/1875 [00:08<00:00, 213.95it/s]\n"
     ]
    },
    {
     "name": "stdout",
     "output_type": "stream",
     "text": [
      "Epoch 20: loss: 4324.231812477112, train accuracy: 10.0, valid accuracy:10.0\n"
     ]
    },
    {
     "name": "stderr",
     "output_type": "stream",
     "text": [
      "100%|██████████| 1875/1875 [00:08<00:00, 212.72it/s]\n"
     ]
    },
    {
     "name": "stdout",
     "output_type": "stream",
     "text": [
      "Epoch 21: loss: 4324.193344593048, train accuracy: 10.0, valid accuracy:10.0\n"
     ]
    },
    {
     "name": "stderr",
     "output_type": "stream",
     "text": [
      "100%|██████████| 1875/1875 [00:08<00:00, 210.16it/s]\n"
     ]
    },
    {
     "name": "stdout",
     "output_type": "stream",
     "text": [
      "Epoch 22: loss: 4324.629523992538, train accuracy: 10.0, valid accuracy:10.0\n"
     ]
    },
    {
     "name": "stderr",
     "output_type": "stream",
     "text": [
      "100%|██████████| 1875/1875 [00:08<00:00, 218.33it/s]\n"
     ]
    },
    {
     "name": "stdout",
     "output_type": "stream",
     "text": [
      "Epoch 23: loss: 4324.132972478867, train accuracy: 10.0, valid accuracy:10.0\n"
     ]
    },
    {
     "name": "stderr",
     "output_type": "stream",
     "text": [
      "100%|██████████| 1875/1875 [00:08<00:00, 213.46it/s]\n"
     ]
    },
    {
     "name": "stdout",
     "output_type": "stream",
     "text": [
      "Epoch 24: loss: 4324.310794830322, train accuracy: 10.0, valid accuracy:10.0\n"
     ]
    },
    {
     "name": "stderr",
     "output_type": "stream",
     "text": [
      "100%|██████████| 1875/1875 [00:08<00:00, 211.05it/s]\n"
     ]
    },
    {
     "name": "stdout",
     "output_type": "stream",
     "text": [
      "Epoch 25: loss: 4324.19606757164, train accuracy: 10.0, valid accuracy:10.0\n"
     ]
    },
    {
     "name": "stderr",
     "output_type": "stream",
     "text": [
      "100%|██████████| 1875/1875 [00:08<00:00, 210.66it/s]\n"
     ]
    },
    {
     "name": "stdout",
     "output_type": "stream",
     "text": [
      "Epoch 26: loss: 4324.266227960587, train accuracy: 10.0, valid accuracy:10.0\n"
     ]
    },
    {
     "name": "stderr",
     "output_type": "stream",
     "text": [
      "100%|██████████| 1875/1875 [00:08<00:00, 212.55it/s]\n"
     ]
    },
    {
     "name": "stdout",
     "output_type": "stream",
     "text": [
      "Epoch 27: loss: 4324.708225727081, train accuracy: 10.0, valid accuracy:10.0\n"
     ]
    },
    {
     "name": "stderr",
     "output_type": "stream",
     "text": [
      "100%|██████████| 1875/1875 [00:08<00:00, 211.41it/s]\n"
     ]
    },
    {
     "name": "stdout",
     "output_type": "stream",
     "text": [
      "Epoch 28: loss: 4323.9952845573425, train accuracy: 10.0, valid accuracy:10.0\n"
     ]
    },
    {
     "name": "stderr",
     "output_type": "stream",
     "text": [
      "100%|██████████| 1875/1875 [00:08<00:00, 213.21it/s]\n"
     ]
    },
    {
     "name": "stdout",
     "output_type": "stream",
     "text": [
      "Epoch 29: loss: 4324.679215669632, train accuracy: 10.0, valid accuracy:10.0\n"
     ]
    },
    {
     "name": "stderr",
     "output_type": "stream",
     "text": [
      "100%|██████████| 1875/1875 [00:08<00:00, 214.04it/s]\n"
     ]
    },
    {
     "name": "stdout",
     "output_type": "stream",
     "text": [
      "Epoch 30: loss: 4324.057768344879, train accuracy: 10.0, valid accuracy:10.0\n"
     ]
    },
    {
     "data": {
      "text/plain": [
       "<matplotlib.legend.Legend at 0x7fc2d77a7a00>"
      ]
     },
     "execution_count": 16,
     "metadata": {},
     "output_type": "execute_result"
    },
    {
     "data": {
      "image/png": "[encoded data removed]",
      "text/plain": [
       "<Figure size 640x480 with 1 Axes>"
      ]
     },
     "metadata": {},
     "output_type": "display_data"
    }
   ],
   "source": [
    "device = torch.device(\"cuda:0\")\n",
    "\n",
    "alpha = 0.5\n",
    "\n",
    "net = MyCNN().to(device)\n",
    "net.apply(weights_init)\n",
    "loss_fn = nn.CrossEntropyLoss()\n",
    "loss_fn.to(device)\n",
    "\n",
    "\n",
    "opt = torch.optim.SGD(list(net.parameters()), lr=alpha)\n",
    "    \n",
    "loss_epoch_array = []\n",
    "max_epochs = 30\n",
    "loss_epoch = 0\n",
    "train_accuracy = []\n",
    "test_accuracy = []\n",
    "\n",
    "for epoch in range(max_epochs):\n",
    "  \n",
    "  loss_epoch = 0\n",
    "  \n",
    "  for i, data in enumerate(tqdm(train_loader), 0):\n",
    "    \n",
    "    net.train()\n",
    "    inputs, labels = data\n",
    "    inputs, labels = inputs.to(device), labels.to(device)\n",
    "    \n",
    "    opt.zero_grad()\n",
    "    outputs = net(inputs)\n",
    "    \n",
    "    loss = loss_fn(outputs, labels)\n",
    "    \n",
    "    loss.backward()\n",
    "    \n",
    "    opt.step()\n",
    "    \n",
    "    loss_epoch += loss.item()\n",
    "  \n",
    "  loss_epoch_array.append(loss_epoch)\n",
    "  train_accuracy.append(evaluation(train_loader))\n",
    "  test_accuracy.append(evaluation(test_loader))\n",
    "  print(\"Epoch {}: loss: {}, train accuracy: {}, valid accuracy:{}\".format(epoch + 1, loss_epoch_array[-1], train_accuracy[-1], test_accuracy[-1]))\n",
    "plt.xlabel(\"Epoch\")\n",
    "plt.ylabel(\"Accuracy\")\n",
    "plt.plot(train_accuracy, \"r\")\n",
    "plt.plot(test_accuracy, \"b\")\n",
    "plt.gca().legend(('train','test'))\n"
   ]
  },
  {
   "cell_type": "code",
   "execution_count": 13,
   "id": "50c3123f-2bad-49aa-8e5b-62414e267443",
   "metadata": {},
   "outputs": [
    {
     "data": {
      "text/plain": [
       "[<matplotlib.lines.Line2D at 0x7fc2d7653c40>]"
      ]
     },
     "execution_count": 13,
     "metadata": {},
     "output_type": "execute_result"
    },
    {
     "data": {
      "image/png": "[encoded data removed]",
      "text/plain": [
       "<Figure size 640x480 with 1 Axes>"
      ]
     },
     "metadata": {},
     "output_type": "display_data"
    }
   ],
   "source": [
    "plt.xlabel(\"Epoch\")\n",
    "plt.ylabel(\"Loss\")\n",
    "plt.plot(loss_epoch_array)"
   ]
  },
  {
   "cell_type": "markdown",
   "id": "622d571b-de4b-4ab6-8c33-128faa37d924",
   "metadata": {},
   "source": [
    "### Alpha 1"
   ]
  },
  {
   "cell_type": "code",
   "execution_count": 9,
   "id": "3d36600b-ca43-4137-82f0-3051de01e409",
   "metadata": {},
   "outputs": [
    {
     "name": "stderr",
     "output_type": "stream",
     "text": [
      "100%|██████████| 1875/1875 [00:08<00:00, 209.17it/s]\n"
     ]
    },
    {
     "name": "stdout",
     "output_type": "stream",
     "text": [
      "Epoch 1: loss: 4343.479623556137, train accuracy: 10.0, valid accuracy:10.0\n"
     ]
    },
    {
     "name": "stderr",
     "output_type": "stream",
     "text": [
      "100%|██████████| 1875/1875 [00:08<00:00, 229.02it/s]\n"
     ]
    },
    {
     "name": "stdout",
     "output_type": "stream",
     "text": [
      "Epoch 2: loss: 4331.84784412384, train accuracy: 10.0, valid accuracy:10.0\n"
     ]
    },
    {
     "name": "stderr",
     "output_type": "stream",
     "text": [
      "100%|██████████| 1875/1875 [00:08<00:00, 229.84it/s]\n"
     ]
    },
    {
     "name": "stdout",
     "output_type": "stream",
     "text": [
      "Epoch 3: loss: 4330.8550391197205, train accuracy: 10.0, valid accuracy:10.0\n"
     ]
    },
    {
     "name": "stderr",
     "output_type": "stream",
     "text": [
      "100%|██████████| 1875/1875 [00:08<00:00, 230.45it/s]\n"
     ]
    },
    {
     "name": "stdout",
     "output_type": "stream",
     "text": [
      "Epoch 4: loss: 4331.426601886749, train accuracy: 10.0, valid accuracy:10.0\n"
     ]
    },
    {
     "name": "stderr",
     "output_type": "stream",
     "text": [
      "100%|██████████| 1875/1875 [00:08<00:00, 232.84it/s]\n"
     ]
    },
    {
     "name": "stdout",
     "output_type": "stream",
     "text": [
      "Epoch 5: loss: 4330.903665065765, train accuracy: 10.0, valid accuracy:10.0\n"
     ]
    },
    {
     "name": "stderr",
     "output_type": "stream",
     "text": [
      "100%|██████████| 1875/1875 [00:08<00:00, 231.44it/s]\n"
     ]
    },
    {
     "name": "stdout",
     "output_type": "stream",
     "text": [
      "Epoch 6: loss: 4330.565727233887, train accuracy: 10.0, valid accuracy:10.0\n"
     ]
    },
    {
     "name": "stderr",
     "output_type": "stream",
     "text": [
      "100%|██████████| 1875/1875 [00:08<00:00, 230.41it/s]\n"
     ]
    },
    {
     "name": "stdout",
     "output_type": "stream",
     "text": [
      "Epoch 7: loss: 4330.468054294586, train accuracy: 10.0, valid accuracy:10.0\n"
     ]
    },
    {
     "name": "stderr",
     "output_type": "stream",
     "text": [
      "100%|██████████| 1875/1875 [00:08<00:00, 224.89it/s]\n"
     ]
    },
    {
     "name": "stdout",
     "output_type": "stream",
     "text": [
      "Epoch 8: loss: 4331.359219312668, train accuracy: 10.0, valid accuracy:10.0\n"
     ]
    },
    {
     "name": "stderr",
     "output_type": "stream",
     "text": [
      "100%|██████████| 1875/1875 [00:08<00:00, 228.94it/s]\n"
     ]
    },
    {
     "name": "stdout",
     "output_type": "stream",
     "text": [
      "Epoch 9: loss: 4332.233021736145, train accuracy: 10.0, valid accuracy:10.0\n"
     ]
    },
    {
     "name": "stderr",
     "output_type": "stream",
     "text": [
      "100%|██████████| 1875/1875 [00:08<00:00, 231.00it/s]\n"
     ]
    },
    {
     "name": "stdout",
     "output_type": "stream",
     "text": [
      "Epoch 10: loss: 4330.7135899066925, train accuracy: 10.0, valid accuracy:10.0\n"
     ]
    },
    {
     "name": "stderr",
     "output_type": "stream",
     "text": [
      "100%|██████████| 1875/1875 [00:08<00:00, 228.32it/s]\n"
     ]
    },
    {
     "name": "stdout",
     "output_type": "stream",
     "text": [
      "Epoch 11: loss: 4331.290590763092, train accuracy: 10.0, valid accuracy:10.0\n"
     ]
    },
    {
     "name": "stderr",
     "output_type": "stream",
     "text": [
      "100%|██████████| 1875/1875 [00:08<00:00, 225.65it/s]\n"
     ]
    },
    {
     "name": "stdout",
     "output_type": "stream",
     "text": [
      "Epoch 12: loss: 4331.961846828461, train accuracy: 10.0, valid accuracy:10.0\n"
     ]
    },
    {
     "name": "stderr",
     "output_type": "stream",
     "text": [
      "100%|██████████| 1875/1875 [00:08<00:00, 228.61it/s]\n"
     ]
    },
    {
     "name": "stdout",
     "output_type": "stream",
     "text": [
      "Epoch 13: loss: 4330.546881437302, train accuracy: 10.0, valid accuracy:10.0\n"
     ]
    },
    {
     "name": "stderr",
     "output_type": "stream",
     "text": [
      "100%|██████████| 1875/1875 [00:08<00:00, 230.04it/s]\n"
     ]
    },
    {
     "name": "stdout",
     "output_type": "stream",
     "text": [
      "Epoch 14: loss: 4331.163269996643, train accuracy: 10.0, valid accuracy:10.0\n"
     ]
    },
    {
     "name": "stderr",
     "output_type": "stream",
     "text": [
      "100%|██████████| 1875/1875 [00:08<00:00, 230.41it/s]\n"
     ]
    },
    {
     "name": "stdout",
     "output_type": "stream",
     "text": [
      "Epoch 15: loss: 4332.354648351669, train accuracy: 10.0, valid accuracy:10.0\n"
     ]
    },
    {
     "name": "stderr",
     "output_type": "stream",
     "text": [
      "100%|██████████| 1875/1875 [00:08<00:00, 229.86it/s]\n"
     ]
    },
    {
     "name": "stdout",
     "output_type": "stream",
     "text": [
      "Epoch 16: loss: 4331.323058128357, train accuracy: 10.0, valid accuracy:10.0\n"
     ]
    },
    {
     "name": "stderr",
     "output_type": "stream",
     "text": [
      "100%|██████████| 1875/1875 [00:08<00:00, 230.05it/s]\n"
     ]
    },
    {
     "name": "stdout",
     "output_type": "stream",
     "text": [
      "Epoch 17: loss: 4331.050208330154, train accuracy: 10.0, valid accuracy:10.0\n"
     ]
    },
    {
     "name": "stderr",
     "output_type": "stream",
     "text": [
      "100%|██████████| 1875/1875 [00:08<00:00, 231.06it/s]\n"
     ]
    },
    {
     "name": "stdout",
     "output_type": "stream",
     "text": [
      "Epoch 18: loss: 4332.028497457504, train accuracy: 10.0, valid accuracy:10.0\n"
     ]
    },
    {
     "name": "stderr",
     "output_type": "stream",
     "text": [
      "100%|██████████| 1875/1875 [00:08<00:00, 225.35it/s]\n"
     ]
    },
    {
     "name": "stdout",
     "output_type": "stream",
     "text": [
      "Epoch 19: loss: 4330.407162189484, train accuracy: 10.0, valid accuracy:10.0\n"
     ]
    },
    {
     "name": "stderr",
     "output_type": "stream",
     "text": [
      "100%|██████████| 1875/1875 [00:08<00:00, 215.76it/s]\n"
     ]
    },
    {
     "name": "stdout",
     "output_type": "stream",
     "text": [
      "Epoch 20: loss: 4331.366294622421, train accuracy: 10.0, valid accuracy:10.0\n"
     ]
    },
    {
     "name": "stderr",
     "output_type": "stream",
     "text": [
      "100%|██████████| 1875/1875 [00:08<00:00, 228.44it/s]\n"
     ]
    },
    {
     "name": "stdout",
     "output_type": "stream",
     "text": [
      "Epoch 21: loss: 4331.435862541199, train accuracy: 10.0, valid accuracy:10.0\n"
     ]
    },
    {
     "name": "stderr",
     "output_type": "stream",
     "text": [
      "100%|██████████| 1875/1875 [00:08<00:00, 230.93it/s]\n"
     ]
    },
    {
     "name": "stdout",
     "output_type": "stream",
     "text": [
      "Epoch 22: loss: 4331.82289981842, train accuracy: 10.0, valid accuracy:10.0\n"
     ]
    },
    {
     "name": "stderr",
     "output_type": "stream",
     "text": [
      "100%|██████████| 1875/1875 [00:08<00:00, 231.82it/s]\n"
     ]
    },
    {
     "name": "stdout",
     "output_type": "stream",
     "text": [
      "Epoch 23: loss: 4331.805905580521, train accuracy: 10.0, valid accuracy:10.0\n"
     ]
    },
    {
     "name": "stderr",
     "output_type": "stream",
     "text": [
      "100%|██████████| 1875/1875 [00:08<00:00, 225.70it/s]\n"
     ]
    },
    {
     "name": "stdout",
     "output_type": "stream",
     "text": [
      "Epoch 24: loss: 4330.358745098114, train accuracy: 10.0, valid accuracy:10.0\n"
     ]
    },
    {
     "name": "stderr",
     "output_type": "stream",
     "text": [
      "100%|██████████| 1875/1875 [00:08<00:00, 229.02it/s]\n"
     ]
    },
    {
     "name": "stdout",
     "output_type": "stream",
     "text": [
      "Epoch 25: loss: 4331.271201372147, train accuracy: 10.0, valid accuracy:10.0\n"
     ]
    },
    {
     "name": "stderr",
     "output_type": "stream",
     "text": [
      "100%|██████████| 1875/1875 [00:08<00:00, 226.95it/s]\n"
     ]
    },
    {
     "name": "stdout",
     "output_type": "stream",
     "text": [
      "Epoch 26: loss: 4331.090270519257, train accuracy: 10.0, valid accuracy:10.0\n"
     ]
    },
    {
     "name": "stderr",
     "output_type": "stream",
     "text": [
      "100%|██████████| 1875/1875 [00:08<00:00, 230.72it/s]\n"
     ]
    },
    {
     "name": "stdout",
     "output_type": "stream",
     "text": [
      "Epoch 27: loss: 4331.2760643959045, train accuracy: 10.0, valid accuracy:10.0\n"
     ]
    },
    {
     "name": "stderr",
     "output_type": "stream",
     "text": [
      "100%|██████████| 1875/1875 [00:08<00:00, 224.75it/s]\n"
     ]
    },
    {
     "name": "stdout",
     "output_type": "stream",
     "text": [
      "Epoch 28: loss: 4332.572809934616, train accuracy: 10.0, valid accuracy:10.0\n"
     ]
    },
    {
     "name": "stderr",
     "output_type": "stream",
     "text": [
      "100%|██████████| 1875/1875 [00:08<00:00, 209.64it/s]\n"
     ]
    },
    {
     "name": "stdout",
     "output_type": "stream",
     "text": [
      "Epoch 29: loss: 4330.848351716995, train accuracy: 10.0, valid accuracy:10.0\n"
     ]
    },
    {
     "name": "stderr",
     "output_type": "stream",
     "text": [
      "100%|██████████| 1875/1875 [00:08<00:00, 227.98it/s]\n"
     ]
    },
    {
     "name": "stdout",
     "output_type": "stream",
     "text": [
      "Epoch 30: loss: 4331.283702373505, train accuracy: 10.0, valid accuracy:10.0\n"
     ]
    },
    {
     "data": {
      "text/plain": [
       "<matplotlib.legend.Legend at 0x7f41e06c3130>"
      ]
     },
     "execution_count": 9,
     "metadata": {},
     "output_type": "execute_result"
    },
    {
     "data": {
      "image/png": "[encoded data removed]",
      "text/plain": [
       "<Figure size 640x480 with 1 Axes>"
      ]
     },
     "metadata": {},
     "output_type": "display_data"
    }
   ],
   "source": [
    "class MyCNN(nn.Module):\n",
    "  def __init__(self):\n",
    "    super(MyCNN, self).__init__()\n",
    "\n",
    "    self.cnn_model = nn.Sequential(nn.Conv2d(1, 32, kernel_size = 5, stride=1), nn.ReLU(), nn.MaxPool2d(2, stride=2), nn.Conv2d(32, 64, kernel_size = 5, stride = 1), nn.ReLU(), nn.MaxPool2d(2, stride = 2))\n",
    "    self.fc_model = nn.Sequential(nn.Linear(1024, 1024), nn.ReLU(), nn.Linear(1024,256), nn.ReLU(), nn.Linear(256, 10))\n",
    " \n",
    "   \n",
    "  def forward(self, x):\n",
    "    x = self.cnn_model(x)\n",
    "    x =x.view(x.size(0), -1)\n",
    "    x = self.fc_model(x)\n",
    "    \n",
    "    return x\n",
    "def evaluation(dataloader):\n",
    "  total, correct = 0,0\n",
    "  net.eval()\n",
    "  for data in dataloader:\n",
    "    \n",
    "    inputs, labels = data\n",
    "    inputs, labels = inputs.to(device), labels.to(device)\n",
    "    outputs = net(inputs)\n",
    "    _, pred = torch.max(outputs.data, 1)\n",
    "    total += labels.size(0)\n",
    "    correct += (pred == labels).sum().item()\n",
    "  return 100 * correct / total\n",
    "def weights_init(m):\n",
    "    if isinstance(m, nn.Linear) or isinstance(m, nn.Conv2d):\n",
    "        torch.nn.init.xavier_normal_(m.weight)\n",
    "device = torch.device(\"cuda:0\")\n",
    "\n",
    "alpha = 1\n",
    "\n",
    "net = MyCNN().to(device)\n",
    "net.apply(weights_init)\n",
    "loss_fn = nn.CrossEntropyLoss()\n",
    "loss_fn.to(device)\n",
    "\n",
    "\n",
    "opt = torch.optim.SGD(list(net.parameters()), lr=alpha)\n",
    "    \n",
    "loss_epoch_array = []\n",
    "max_epochs = 30\n",
    "loss_epoch = 0\n",
    "train_accuracy = []\n",
    "test_accuracy = []\n",
    "\n",
    "for epoch in range(max_epochs):\n",
    "  \n",
    "  loss_epoch = 0\n",
    "  \n",
    "  for i, data in enumerate(tqdm(train_loader), 0):\n",
    "    \n",
    "    net.train()\n",
    "    inputs, labels = data\n",
    "    inputs, labels = inputs.to(device), labels.to(device)\n",
    "    \n",
    "    opt.zero_grad()\n",
    "    outputs = net(inputs)\n",
    "    \n",
    "    loss = loss_fn(outputs, labels)\n",
    "    \n",
    "    loss.backward()\n",
    "    \n",
    "    opt.step()\n",
    "    \n",
    "    loss_epoch += loss.item()\n",
    "  \n",
    "  loss_epoch_array.append(loss_epoch)\n",
    "  train_accuracy.append(evaluation(train_loader))\n",
    "  test_accuracy.append(evaluation(test_loader))\n",
    "  print(\"Epoch {}: loss: {}, train accuracy: {}, valid accuracy:{}\".format(epoch + 1, loss_epoch_array[-1], train_accuracy[-1], test_accuracy[-1]))\n",
    "plt.xlabel(\"Epoch\")\n",
    "plt.ylabel(\"Accuracy\")\n",
    "plt.plot(train_accuracy, \"r\")\n",
    "plt.plot(test_accuracy, \"b\")\n",
    "plt.gca().legend(('train','test'))\n"
   ]
  },
  {
   "cell_type": "code",
   "execution_count": 10,
   "id": "916975de-ccff-420a-a11e-299ab5855a41",
   "metadata": {},
   "outputs": [
    {
     "data": {
      "text/plain": [
       "[<matplotlib.lines.Line2D at 0x7f41e0566440>]"
      ]
     },
     "execution_count": 10,
     "metadata": {},
     "output_type": "execute_result"
    },
    {
     "data": {
      "image/png": "[encoded data removed]",
      "text/plain": [
       "<Figure size 640x480 with 1 Axes>"
      ]
     },
     "metadata": {},
     "output_type": "display_data"
    }
   ],
   "source": [
    "plt.xlabel(\"Epoch\")\n",
    "plt.ylabel(\"Loss\")\n",
    "plt.plot(loss_epoch_array)"
   ]
  },
  {
   "cell_type": "markdown",
   "id": "b34eaa84-a349-411e-bbdd-6a1dc1918bf0",
   "metadata": {},
   "source": [
    "### Alpha 10"
   ]
  },
  {
   "cell_type": "code",
   "execution_count": 11,
   "id": "81889f33-09bf-4494-b4ab-4e1eb5b14db3",
   "metadata": {},
   "outputs": [
    {
     "name": "stderr",
     "output_type": "stream",
     "text": [
      "100%|██████████| 1875/1875 [00:08<00:00, 227.92it/s]\n"
     ]
    },
    {
     "name": "stdout",
     "output_type": "stream",
     "text": [
      "Epoch 1: loss: nan, train accuracy: 10.0, valid accuracy:10.0\n"
     ]
    },
    {
     "name": "stderr",
     "output_type": "stream",
     "text": [
      "100%|██████████| 1875/1875 [00:08<00:00, 218.12it/s]\n"
     ]
    },
    {
     "name": "stdout",
     "output_type": "stream",
     "text": [
      "Epoch 2: loss: nan, train accuracy: 10.0, valid accuracy:10.0\n"
     ]
    },
    {
     "name": "stderr",
     "output_type": "stream",
     "text": [
      "100%|██████████| 1875/1875 [00:08<00:00, 232.86it/s]\n"
     ]
    },
    {
     "name": "stdout",
     "output_type": "stream",
     "text": [
      "Epoch 3: loss: nan, train accuracy: 10.0, valid accuracy:10.0\n"
     ]
    },
    {
     "name": "stderr",
     "output_type": "stream",
     "text": [
      "100%|██████████| 1875/1875 [00:08<00:00, 229.89it/s]\n"
     ]
    },
    {
     "name": "stdout",
     "output_type": "stream",
     "text": [
      "Epoch 4: loss: nan, train accuracy: 10.0, valid accuracy:10.0\n"
     ]
    },
    {
     "name": "stderr",
     "output_type": "stream",
     "text": [
      "100%|██████████| 1875/1875 [00:08<00:00, 229.36it/s]\n"
     ]
    },
    {
     "name": "stdout",
     "output_type": "stream",
     "text": [
      "Epoch 5: loss: nan, train accuracy: 10.0, valid accuracy:10.0\n"
     ]
    },
    {
     "name": "stderr",
     "output_type": "stream",
     "text": [
      "100%|██████████| 1875/1875 [00:08<00:00, 232.29it/s]\n"
     ]
    },
    {
     "name": "stdout",
     "output_type": "stream",
     "text": [
      "Epoch 6: loss: nan, train accuracy: 10.0, valid accuracy:10.0\n"
     ]
    },
    {
     "name": "stderr",
     "output_type": "stream",
     "text": [
      "100%|██████████| 1875/1875 [00:07<00:00, 237.78it/s]\n"
     ]
    },
    {
     "name": "stdout",
     "output_type": "stream",
     "text": [
      "Epoch 7: loss: nan, train accuracy: 10.0, valid accuracy:10.0\n"
     ]
    },
    {
     "name": "stderr",
     "output_type": "stream",
     "text": [
      "100%|██████████| 1875/1875 [00:08<00:00, 234.10it/s]\n"
     ]
    },
    {
     "name": "stdout",
     "output_type": "stream",
     "text": [
      "Epoch 8: loss: nan, train accuracy: 10.0, valid accuracy:10.0\n"
     ]
    },
    {
     "name": "stderr",
     "output_type": "stream",
     "text": [
      "100%|██████████| 1875/1875 [00:09<00:00, 205.54it/s]\n"
     ]
    },
    {
     "name": "stdout",
     "output_type": "stream",
     "text": [
      "Epoch 9: loss: nan, train accuracy: 10.0, valid accuracy:10.0\n"
     ]
    },
    {
     "name": "stderr",
     "output_type": "stream",
     "text": [
      "100%|██████████| 1875/1875 [00:08<00:00, 209.07it/s]\n"
     ]
    },
    {
     "name": "stdout",
     "output_type": "stream",
     "text": [
      "Epoch 10: loss: nan, train accuracy: 10.0, valid accuracy:10.0\n"
     ]
    },
    {
     "name": "stderr",
     "output_type": "stream",
     "text": [
      "100%|██████████| 1875/1875 [00:07<00:00, 235.41it/s]\n"
     ]
    },
    {
     "name": "stdout",
     "output_type": "stream",
     "text": [
      "Epoch 11: loss: nan, train accuracy: 10.0, valid accuracy:10.0\n"
     ]
    },
    {
     "name": "stderr",
     "output_type": "stream",
     "text": [
      "100%|██████████| 1875/1875 [00:08<00:00, 232.35it/s]\n"
     ]
    },
    {
     "name": "stdout",
     "output_type": "stream",
     "text": [
      "Epoch 12: loss: nan, train accuracy: 10.0, valid accuracy:10.0\n"
     ]
    },
    {
     "name": "stderr",
     "output_type": "stream",
     "text": [
      "100%|██████████| 1875/1875 [00:08<00:00, 231.92it/s]\n"
     ]
    },
    {
     "name": "stdout",
     "output_type": "stream",
     "text": [
      "Epoch 13: loss: nan, train accuracy: 10.0, valid accuracy:10.0\n"
     ]
    },
    {
     "name": "stderr",
     "output_type": "stream",
     "text": [
      "100%|██████████| 1875/1875 [00:08<00:00, 222.36it/s]\n"
     ]
    },
    {
     "name": "stdout",
     "output_type": "stream",
     "text": [
      "Epoch 14: loss: nan, train accuracy: 10.0, valid accuracy:10.0\n"
     ]
    },
    {
     "name": "stderr",
     "output_type": "stream",
     "text": [
      "100%|██████████| 1875/1875 [00:08<00:00, 222.63it/s]\n"
     ]
    },
    {
     "name": "stdout",
     "output_type": "stream",
     "text": [
      "Epoch 15: loss: nan, train accuracy: 10.0, valid accuracy:10.0\n"
     ]
    },
    {
     "name": "stderr",
     "output_type": "stream",
     "text": [
      "100%|██████████| 1875/1875 [00:08<00:00, 229.63it/s]\n"
     ]
    },
    {
     "name": "stdout",
     "output_type": "stream",
     "text": [
      "Epoch 16: loss: nan, train accuracy: 10.0, valid accuracy:10.0\n"
     ]
    },
    {
     "name": "stderr",
     "output_type": "stream",
     "text": [
      "100%|██████████| 1875/1875 [00:07<00:00, 234.99it/s]\n"
     ]
    },
    {
     "name": "stdout",
     "output_type": "stream",
     "text": [
      "Epoch 17: loss: nan, train accuracy: 10.0, valid accuracy:10.0\n"
     ]
    },
    {
     "name": "stderr",
     "output_type": "stream",
     "text": [
      "100%|██████████| 1875/1875 [00:08<00:00, 228.51it/s]\n"
     ]
    },
    {
     "name": "stdout",
     "output_type": "stream",
     "text": [
      "Epoch 18: loss: nan, train accuracy: 10.0, valid accuracy:10.0\n"
     ]
    },
    {
     "name": "stderr",
     "output_type": "stream",
     "text": [
      "100%|██████████| 1875/1875 [00:08<00:00, 232.83it/s]\n"
     ]
    },
    {
     "name": "stdout",
     "output_type": "stream",
     "text": [
      "Epoch 19: loss: nan, train accuracy: 10.0, valid accuracy:10.0\n"
     ]
    },
    {
     "name": "stderr",
     "output_type": "stream",
     "text": [
      "100%|██████████| 1875/1875 [00:08<00:00, 234.21it/s]\n"
     ]
    },
    {
     "name": "stdout",
     "output_type": "stream",
     "text": [
      "Epoch 20: loss: nan, train accuracy: 10.0, valid accuracy:10.0\n"
     ]
    },
    {
     "name": "stderr",
     "output_type": "stream",
     "text": [
      "100%|██████████| 1875/1875 [00:08<00:00, 232.61it/s]\n"
     ]
    },
    {
     "name": "stdout",
     "output_type": "stream",
     "text": [
      "Epoch 21: loss: nan, train accuracy: 10.0, valid accuracy:10.0\n"
     ]
    },
    {
     "name": "stderr",
     "output_type": "stream",
     "text": [
      "100%|██████████| 1875/1875 [00:07<00:00, 234.50it/s]\n"
     ]
    },
    {
     "name": "stdout",
     "output_type": "stream",
     "text": [
      "Epoch 22: loss: nan, train accuracy: 10.0, valid accuracy:10.0\n"
     ]
    },
    {
     "name": "stderr",
     "output_type": "stream",
     "text": [
      "100%|██████████| 1875/1875 [00:08<00:00, 234.01it/s]\n"
     ]
    },
    {
     "name": "stdout",
     "output_type": "stream",
     "text": [
      "Epoch 23: loss: nan, train accuracy: 10.0, valid accuracy:10.0\n"
     ]
    },
    {
     "name": "stderr",
     "output_type": "stream",
     "text": [
      "100%|██████████| 1875/1875 [00:07<00:00, 234.86it/s]\n"
     ]
    },
    {
     "name": "stdout",
     "output_type": "stream",
     "text": [
      "Epoch 24: loss: nan, train accuracy: 10.0, valid accuracy:10.0\n"
     ]
    },
    {
     "name": "stderr",
     "output_type": "stream",
     "text": [
      "100%|██████████| 1875/1875 [00:08<00:00, 234.09it/s]\n"
     ]
    },
    {
     "name": "stdout",
     "output_type": "stream",
     "text": [
      "Epoch 25: loss: nan, train accuracy: 10.0, valid accuracy:10.0\n"
     ]
    },
    {
     "name": "stderr",
     "output_type": "stream",
     "text": [
      "100%|██████████| 1875/1875 [00:08<00:00, 226.81it/s]\n"
     ]
    },
    {
     "name": "stdout",
     "output_type": "stream",
     "text": [
      "Epoch 26: loss: nan, train accuracy: 10.0, valid accuracy:10.0\n"
     ]
    },
    {
     "name": "stderr",
     "output_type": "stream",
     "text": [
      "100%|██████████| 1875/1875 [00:08<00:00, 229.66it/s]\n"
     ]
    },
    {
     "name": "stdout",
     "output_type": "stream",
     "text": [
      "Epoch 27: loss: nan, train accuracy: 10.0, valid accuracy:10.0\n"
     ]
    },
    {
     "name": "stderr",
     "output_type": "stream",
     "text": [
      "100%|██████████| 1875/1875 [00:08<00:00, 231.85it/s]\n"
     ]
    },
    {
     "name": "stdout",
     "output_type": "stream",
     "text": [
      "Epoch 28: loss: nan, train accuracy: 10.0, valid accuracy:10.0\n"
     ]
    },
    {
     "name": "stderr",
     "output_type": "stream",
     "text": [
      "100%|██████████| 1875/1875 [00:07<00:00, 235.75it/s]\n"
     ]
    },
    {
     "name": "stdout",
     "output_type": "stream",
     "text": [
      "Epoch 29: loss: nan, train accuracy: 10.0, valid accuracy:10.0\n"
     ]
    },
    {
     "name": "stderr",
     "output_type": "stream",
     "text": [
      "100%|██████████| 1875/1875 [00:08<00:00, 232.64it/s]\n"
     ]
    },
    {
     "name": "stdout",
     "output_type": "stream",
     "text": [
      "Epoch 30: loss: nan, train accuracy: 10.0, valid accuracy:10.0\n"
     ]
    },
    {
     "data": {
      "text/plain": [
       "<matplotlib.legend.Legend at 0x7f41e059c580>"
      ]
     },
     "execution_count": 11,
     "metadata": {},
     "output_type": "execute_result"
    },
    {
     "data": {
      "image/png": "[encoded data removed]",
      "text/plain": [
       "<Figure size 640x480 with 1 Axes>"
      ]
     },
     "metadata": {},
     "output_type": "display_data"
    }
   ],
   "source": [
    "class MyCNN(nn.Module):\n",
    "  def __init__(self):\n",
    "    super(MyCNN, self).__init__()\n",
    "\n",
    "    self.cnn_model = nn.Sequential(nn.Conv2d(1, 32, kernel_size = 5, stride=1), nn.ReLU(), nn.MaxPool2d(2, stride=2), nn.Conv2d(32, 64, kernel_size = 5, stride = 1), nn.ReLU(), nn.MaxPool2d(2, stride = 2))\n",
    "    self.fc_model = nn.Sequential(nn.Linear(1024, 1024), nn.ReLU(), nn.Linear(1024,256), nn.ReLU(), nn.Linear(256, 10))\n",
    " \n",
    "   \n",
    "  def forward(self, x):\n",
    "    x = self.cnn_model(x)\n",
    "    x =x.view(x.size(0), -1)\n",
    "    x = self.fc_model(x)\n",
    "    \n",
    "    return x\n",
    "def evaluation(dataloader):\n",
    "  total, correct = 0,0\n",
    "  net.eval()\n",
    "  for data in dataloader:\n",
    "    \n",
    "    inputs, labels = data\n",
    "    inputs, labels = inputs.to(device), labels.to(device)\n",
    "    outputs = net(inputs)\n",
    "    _, pred = torch.max(outputs.data, 1)\n",
    "    total += labels.size(0)\n",
    "    correct += (pred == labels).sum().item()\n",
    "  return 100 * correct / total\n",
    "def weights_init(m):\n",
    "    if isinstance(m, nn.Linear) or isinstance(m, nn.Conv2d):\n",
    "        torch.nn.init.xavier_normal_(m.weight)\n",
    "device = torch.device(\"cuda:0\")\n",
    "\n",
    "alpha = 10\n",
    "\n",
    "net = MyCNN().to(device)\n",
    "net.apply(weights_init)\n",
    "loss_fn = nn.CrossEntropyLoss()\n",
    "loss_fn.to(device)\n",
    "\n",
    "\n",
    "opt = torch.optim.SGD(list(net.parameters()), lr=alpha)\n",
    "    \n",
    "loss_epoch_array = []\n",
    "max_epochs = 30\n",
    "loss_epoch = 0\n",
    "train_accuracy = []\n",
    "test_accuracy = []\n",
    "\n",
    "for epoch in range(max_epochs):\n",
    "  \n",
    "  loss_epoch = 0\n",
    "  \n",
    "  for i, data in enumerate(tqdm(train_loader), 0):\n",
    "    \n",
    "    net.train()\n",
    "    inputs, labels = data\n",
    "    inputs, labels = inputs.to(device), labels.to(device)\n",
    "    \n",
    "    opt.zero_grad()\n",
    "    outputs = net(inputs)\n",
    "    \n",
    "    loss = loss_fn(outputs, labels)\n",
    "    \n",
    "    loss.backward()\n",
    "    \n",
    "    opt.step()\n",
    "    \n",
    "    loss_epoch += loss.item()\n",
    "  \n",
    "  loss_epoch_array.append(loss_epoch)\n",
    "  train_accuracy.append(evaluation(train_loader))\n",
    "  test_accuracy.append(evaluation(test_loader))\n",
    "  print(\"Epoch {}: loss: {}, train accuracy: {}, valid accuracy:{}\".format(epoch + 1, loss_epoch_array[-1], train_accuracy[-1], test_accuracy[-1]))\n",
    "plt.xlabel(\"Epoch\")\n",
    "plt.ylabel(\"Accuracy\")\n",
    "plt.plot(train_accuracy, \"r\")\n",
    "plt.plot(test_accuracy, \"b\")\n",
    "plt.gca().legend(('train','test'))\n"
   ]
  },
  {
   "cell_type": "code",
   "execution_count": 12,
   "id": "1911bae4-4469-4f6b-96e7-f68a3b3d3a0a",
   "metadata": {},
   "outputs": [
    {
     "data": {
      "text/plain": [
       "[<matplotlib.lines.Line2D at 0x7f41e04b4c10>]"
      ]
     },
     "execution_count": 12,
     "metadata": {},
     "output_type": "execute_result"
    },
    {
     "data": {
      "image/png": "[encoded data removed]",
      "text/plain": [
       "<Figure size 640x480 with 1 Axes>"
      ]
     },
     "metadata": {},
     "output_type": "display_data"
    }
   ],
   "source": [
    "plt.xlabel(\"Epoch\")\n",
    "plt.ylabel(\"Loss\")\n",
    "plt.plot(loss_epoch_array)"
   ]
  },
  {
   "cell_type": "markdown",
   "id": "668b8a46-6a76-4138-9260-adc1e0346cda",
   "metadata": {},
   "source": [
    "### Adding  dropout of 0.3 rate on the second fully connected layer (keeping ReLU and learning rate 0.1)."
   ]
  },
  {
   "cell_type": "code",
   "execution_count": 13,
   "id": "e7db2126-03a1-4d51-b526-29dacbef6dc1",
   "metadata": {},
   "outputs": [
    {
     "name": "stderr",
     "output_type": "stream",
     "text": [
      "100%|██████████| 1875/1875 [00:08<00:00, 230.96it/s]\n"
     ]
    },
    {
     "name": "stdout",
     "output_type": "stream",
     "text": [
      "Epoch 1: loss: 1027.8882740810513, train accuracy: 87.01666666666667, valid accuracy:86.27\n"
     ]
    },
    {
     "name": "stderr",
     "output_type": "stream",
     "text": [
      "100%|██████████| 1875/1875 [00:08<00:00, 224.78it/s]\n"
     ]
    },
    {
     "name": "stdout",
     "output_type": "stream",
     "text": [
      "Epoch 2: loss: 627.2560871429741, train accuracy: 89.435, valid accuracy:88.15\n"
     ]
    },
    {
     "name": "stderr",
     "output_type": "stream",
     "text": [
      "100%|██████████| 1875/1875 [00:08<00:00, 228.15it/s]\n"
     ]
    },
    {
     "name": "stdout",
     "output_type": "stream",
     "text": [
      "Epoch 3: loss: 533.3277498520911, train accuracy: 90.965, valid accuracy:89.07\n"
     ]
    },
    {
     "name": "stderr",
     "output_type": "stream",
     "text": [
      "100%|██████████| 1875/1875 [00:08<00:00, 229.38it/s]\n"
     ]
    },
    {
     "name": "stdout",
     "output_type": "stream",
     "text": [
      "Epoch 4: loss: 478.65417223609984, train accuracy: 90.77666666666667, valid accuracy:88.74\n"
     ]
    },
    {
     "name": "stderr",
     "output_type": "stream",
     "text": [
      "100%|██████████| 1875/1875 [00:08<00:00, 218.44it/s]\n"
     ]
    },
    {
     "name": "stdout",
     "output_type": "stream",
     "text": [
      "Epoch 5: loss: 433.21052613668144, train accuracy: 91.83666666666667, valid accuracy:89.56\n"
     ]
    },
    {
     "name": "stderr",
     "output_type": "stream",
     "text": [
      "100%|██████████| 1875/1875 [00:08<00:00, 224.41it/s]\n"
     ]
    },
    {
     "name": "stdout",
     "output_type": "stream",
     "text": [
      "Epoch 6: loss: 399.0755520351231, train accuracy: 93.085, valid accuracy:89.95\n"
     ]
    },
    {
     "name": "stderr",
     "output_type": "stream",
     "text": [
      "100%|██████████| 1875/1875 [00:08<00:00, 228.92it/s]\n"
     ]
    },
    {
     "name": "stdout",
     "output_type": "stream",
     "text": [
      "Epoch 7: loss: 361.6312027350068, train accuracy: 93.79666666666667, valid accuracy:90.69\n"
     ]
    },
    {
     "name": "stderr",
     "output_type": "stream",
     "text": [
      "100%|██████████| 1875/1875 [00:08<00:00, 227.34it/s]\n"
     ]
    },
    {
     "name": "stdout",
     "output_type": "stream",
     "text": [
      "Epoch 8: loss: 334.2355803058017, train accuracy: 93.70833333333333, valid accuracy:90.01\n"
     ]
    },
    {
     "name": "stderr",
     "output_type": "stream",
     "text": [
      "100%|██████████| 1875/1875 [00:08<00:00, 227.41it/s]\n"
     ]
    },
    {
     "name": "stdout",
     "output_type": "stream",
     "text": [
      "Epoch 9: loss: 301.5720901209861, train accuracy: 94.90166666666667, valid accuracy:90.53\n"
     ]
    },
    {
     "name": "stderr",
     "output_type": "stream",
     "text": [
      "100%|██████████| 1875/1875 [00:08<00:00, 226.32it/s]\n"
     ]
    },
    {
     "name": "stdout",
     "output_type": "stream",
     "text": [
      "Epoch 10: loss: 276.81374877039343, train accuracy: 95.20333333333333, valid accuracy:90.57\n"
     ]
    },
    {
     "name": "stderr",
     "output_type": "stream",
     "text": [
      "100%|██████████| 1875/1875 [00:08<00:00, 221.59it/s]\n"
     ]
    },
    {
     "name": "stdout",
     "output_type": "stream",
     "text": [
      "Epoch 11: loss: 253.72209938243032, train accuracy: 94.99666666666667, valid accuracy:89.84\n"
     ]
    },
    {
     "name": "stderr",
     "output_type": "stream",
     "text": [
      "100%|██████████| 1875/1875 [00:08<00:00, 230.08it/s]\n"
     ]
    },
    {
     "name": "stdout",
     "output_type": "stream",
     "text": [
      "Epoch 12: loss: 230.62796638463624, train accuracy: 95.76166666666667, valid accuracy:90.59\n"
     ]
    },
    {
     "name": "stderr",
     "output_type": "stream",
     "text": [
      "100%|██████████| 1875/1875 [00:08<00:00, 227.56it/s]\n"
     ]
    },
    {
     "name": "stdout",
     "output_type": "stream",
     "text": [
      "Epoch 13: loss: 211.95444810995832, train accuracy: 96.39166666666667, valid accuracy:90.98\n"
     ]
    },
    {
     "name": "stderr",
     "output_type": "stream",
     "text": [
      "100%|██████████| 1875/1875 [00:08<00:00, 226.26it/s]\n"
     ]
    },
    {
     "name": "stdout",
     "output_type": "stream",
     "text": [
      "Epoch 14: loss: 194.29583363444544, train accuracy: 96.89166666666667, valid accuracy:90.9\n"
     ]
    },
    {
     "name": "stderr",
     "output_type": "stream",
     "text": [
      "100%|██████████| 1875/1875 [00:08<00:00, 224.12it/s]\n"
     ]
    },
    {
     "name": "stdout",
     "output_type": "stream",
     "text": [
      "Epoch 15: loss: 170.42090343881864, train accuracy: 97.49833333333333, valid accuracy:91.04\n"
     ]
    },
    {
     "name": "stderr",
     "output_type": "stream",
     "text": [
      "100%|██████████| 1875/1875 [00:08<00:00, 216.67it/s]\n"
     ]
    },
    {
     "name": "stdout",
     "output_type": "stream",
     "text": [
      "Epoch 16: loss: 169.4480820397148, train accuracy: 97.46833333333333, valid accuracy:91.02\n"
     ]
    },
    {
     "name": "stderr",
     "output_type": "stream",
     "text": [
      "100%|██████████| 1875/1875 [00:08<00:00, 215.98it/s]\n"
     ]
    },
    {
     "name": "stdout",
     "output_type": "stream",
     "text": [
      "Epoch 17: loss: 154.15659883327316, train accuracy: 97.46, valid accuracy:90.89\n"
     ]
    },
    {
     "name": "stderr",
     "output_type": "stream",
     "text": [
      "100%|██████████| 1875/1875 [00:08<00:00, 225.36it/s]\n"
     ]
    },
    {
     "name": "stdout",
     "output_type": "stream",
     "text": [
      "Epoch 18: loss: 137.8260030882957, train accuracy: 98.08666666666667, valid accuracy:91.65\n"
     ]
    },
    {
     "name": "stderr",
     "output_type": "stream",
     "text": [
      "100%|██████████| 1875/1875 [00:08<00:00, 224.42it/s]\n"
     ]
    },
    {
     "name": "stdout",
     "output_type": "stream",
     "text": [
      "Epoch 19: loss: 126.293671007792, train accuracy: 97.87666666666667, valid accuracy:90.66\n"
     ]
    },
    {
     "name": "stderr",
     "output_type": "stream",
     "text": [
      "100%|██████████| 1875/1875 [00:08<00:00, 226.27it/s]\n"
     ]
    },
    {
     "name": "stdout",
     "output_type": "stream",
     "text": [
      "Epoch 20: loss: 129.5542356929509, train accuracy: 98.11833333333334, valid accuracy:91.14\n"
     ]
    },
    {
     "name": "stderr",
     "output_type": "stream",
     "text": [
      "100%|██████████| 1875/1875 [00:08<00:00, 226.53it/s]\n"
     ]
    },
    {
     "name": "stdout",
     "output_type": "stream",
     "text": [
      "Epoch 21: loss: 115.71482856353396, train accuracy: 98.13333333333334, valid accuracy:90.82\n"
     ]
    },
    {
     "name": "stderr",
     "output_type": "stream",
     "text": [
      "100%|██████████| 1875/1875 [00:08<00:00, 223.66it/s]\n"
     ]
    },
    {
     "name": "stdout",
     "output_type": "stream",
     "text": [
      "Epoch 22: loss: 104.38161296614271, train accuracy: 98.41833333333334, valid accuracy:91.03\n"
     ]
    },
    {
     "name": "stderr",
     "output_type": "stream",
     "text": [
      "100%|██████████| 1875/1875 [00:08<00:00, 224.17it/s]\n"
     ]
    },
    {
     "name": "stdout",
     "output_type": "stream",
     "text": [
      "Epoch 23: loss: 98.15635951187141, train accuracy: 98.745, valid accuracy:91.27\n"
     ]
    },
    {
     "name": "stderr",
     "output_type": "stream",
     "text": [
      "100%|██████████| 1875/1875 [00:08<00:00, 224.06it/s]\n"
     ]
    },
    {
     "name": "stdout",
     "output_type": "stream",
     "text": [
      "Epoch 24: loss: 92.5329104873017, train accuracy: 98.21833333333333, valid accuracy:90.69\n"
     ]
    },
    {
     "name": "stderr",
     "output_type": "stream",
     "text": [
      "100%|██████████| 1875/1875 [00:08<00:00, 225.83it/s]\n"
     ]
    },
    {
     "name": "stdout",
     "output_type": "stream",
     "text": [
      "Epoch 25: loss: 87.62711514559305, train accuracy: 98.07, valid accuracy:90.6\n"
     ]
    },
    {
     "name": "stderr",
     "output_type": "stream",
     "text": [
      "100%|██████████| 1875/1875 [00:08<00:00, 223.06it/s]\n"
     ]
    },
    {
     "name": "stdout",
     "output_type": "stream",
     "text": [
      "Epoch 26: loss: 85.43572066098932, train accuracy: 99.055, valid accuracy:90.87\n"
     ]
    },
    {
     "name": "stderr",
     "output_type": "stream",
     "text": [
      "100%|██████████| 1875/1875 [00:08<00:00, 222.16it/s]\n"
     ]
    },
    {
     "name": "stdout",
     "output_type": "stream",
     "text": [
      "Epoch 27: loss: 75.45687525130779, train accuracy: 98.635, valid accuracy:90.57\n"
     ]
    },
    {
     "name": "stderr",
     "output_type": "stream",
     "text": [
      "100%|██████████| 1875/1875 [00:08<00:00, 228.80it/s]\n"
     ]
    },
    {
     "name": "stdout",
     "output_type": "stream",
     "text": [
      "Epoch 28: loss: 75.45074970596761, train accuracy: 99.05166666666666, valid accuracy:90.96\n"
     ]
    },
    {
     "name": "stderr",
     "output_type": "stream",
     "text": [
      "100%|██████████| 1875/1875 [00:08<00:00, 227.05it/s]\n"
     ]
    },
    {
     "name": "stdout",
     "output_type": "stream",
     "text": [
      "Epoch 29: loss: 78.46397557734667, train accuracy: 99.17666666666666, valid accuracy:91.0\n"
     ]
    },
    {
     "name": "stderr",
     "output_type": "stream",
     "text": [
      "100%|██████████| 1875/1875 [00:08<00:00, 228.16it/s]\n"
     ]
    },
    {
     "name": "stdout",
     "output_type": "stream",
     "text": [
      "Epoch 30: loss: 59.04133151176393, train accuracy: 99.52, valid accuracy:91.06\n"
     ]
    },
    {
     "data": {
      "text/plain": [
       "<matplotlib.legend.Legend at 0x7f41e04140a0>"
      ]
     },
     "execution_count": 13,
     "metadata": {},
     "output_type": "execute_result"
    },
    {
     "data": {
      "image/png": "[encoded data removed]",
      "text/plain": [
       "<Figure size 640x480 with 1 Axes>"
      ]
     },
     "metadata": {},
     "output_type": "display_data"
    }
   ],
   "source": [
    "class MyCNN(nn.Module):\n",
    "  def __init__(self):\n",
    "    super(MyCNN, self).__init__()\n",
    "\n",
    "    self.cnn_model = nn.Sequential(nn.Conv2d(1, 32, kernel_size = 5, stride=1), nn.ReLU(), nn.MaxPool2d(2, stride=2), nn.Conv2d(32, 64, kernel_size = 5, stride = 1), nn.ReLU(), nn.MaxPool2d(2, stride = 2))\n",
    "    \n",
    "    # Dropout is applied after the activation function in second fully connected layer\n",
    "    \n",
    "    self.fc_model = nn.Sequential(nn.Linear(1024, 1024), nn.ReLU(), nn.Linear(1024,256), nn.ReLU(),nn.Dropout(0.3), nn.Linear(256, 10))\n",
    " \n",
    "   \n",
    "  def forward(self, x):\n",
    "    x = self.cnn_model(x)\n",
    "    x =x.view(x.size(0), -1)\n",
    "    x = self.fc_model(x)\n",
    "    \n",
    "    return x\n",
    "def evaluation(dataloader):\n",
    "  total, correct = 0,0\n",
    "  net.eval()\n",
    "  for data in dataloader:\n",
    "    \n",
    "    inputs, labels = data\n",
    "    inputs, labels = inputs.to(device), labels.to(device)\n",
    "    outputs = net(inputs)\n",
    "    _, pred = torch.max(outputs.data, 1)\n",
    "    total += labels.size(0)\n",
    "    correct += (pred == labels).sum().item()\n",
    "  return 100 * correct / total\n",
    "def weights_init(m):\n",
    "    if isinstance(m, nn.Linear) or isinstance(m, nn.Conv2d):\n",
    "        torch.nn.init.xavier_normal_(m.weight)\n",
    "        \n",
    "alpha = 0.1\n",
    "\n",
    "net = MyCNN().to(device)\n",
    "net.apply(weights_init)\n",
    "loss_fn = nn.CrossEntropyLoss()\n",
    "loss_fn.to(device)\n",
    "\n",
    "\n",
    "opt = torch.optim.SGD(list(net.parameters()), lr=alpha)\n",
    "    \n",
    "loss_epoch_array = []\n",
    "max_epochs = 30\n",
    "loss_epoch = 0\n",
    "train_accuracy = []\n",
    "test_accuracy = []\n",
    "\n",
    "for epoch in range(max_epochs):\n",
    "  \n",
    "  loss_epoch = 0\n",
    "  \n",
    "  for i, data in enumerate(tqdm(train_loader), 0):\n",
    "    \n",
    "    net.train()\n",
    "    inputs, labels = data\n",
    "    inputs, labels = inputs.to(device), labels.to(device)\n",
    "\n",
    "    opt.zero_grad()\n",
    "    outputs = net(inputs)\n",
    "    \n",
    "    loss = loss_fn(outputs, labels)\n",
    "    \n",
    "    loss.backward()\n",
    "    \n",
    "    opt.step()\n",
    "    \n",
    "    loss_epoch += loss.item()\n",
    "  \n",
    "  loss_epoch_array.append(loss_epoch)\n",
    "  train_accuracy.append(evaluation(train_loader))\n",
    "  test_accuracy.append(evaluation(test_loader))\n",
    "  print(\"Epoch {}: loss: {}, train accuracy: {}, valid accuracy:{}\".format(epoch + 1, loss_epoch_array[-1], train_accuracy[-1], test_accuracy[-1]))\n",
    "plt.xlabel(\"Epoch\")\n",
    "plt.ylabel(\"Accuracy\")\n",
    "plt.plot(train_accuracy, \"r\")\n",
    "plt.plot(test_accuracy, \"b\")\n",
    "plt.gca().legend(('train','test'))\n"
   ]
  },
  {
   "cell_type": "code",
   "execution_count": 14,
   "id": "adffdebf-88b0-4a01-931e-784ac4a1e1ee",
   "metadata": {},
   "outputs": [
    {
     "data": {
      "text/plain": [
       "[<matplotlib.lines.Line2D at 0x7f41e03d12a0>]"
      ]
     },
     "execution_count": 14,
     "metadata": {},
     "output_type": "execute_result"
    },
    {
     "data": {
      "image/png": "[encoded data removed]",
      "text/plain": [
       "<Figure size 640x480 with 1 Axes>"
      ]
     },
     "metadata": {},
     "output_type": "display_data"
    }
   ],
   "source": [
    "plt.xlabel(\"Epoch\")\n",
    "plt.ylabel(\"Loss\")\n",
    "plt.plot(loss_epoch_array)"
   ]
  },
  {
   "cell_type": "code",
   "execution_count": null,
   "id": "db6cbc24-c826-4a90-95fb-31e5137a9d21",
   "metadata": {},
   "outputs": [],
   "source": []
  }
 ],
 "metadata": {
  "kernelspec": {
   "display_name": "Python 3 (ipykernel)",
   "language": "python",
   "name": "python3"
  },
  "language_info": {
   "codemirror_mode": {
    "name": "ipython",
    "version": 3
   },
   "file_extension": ".py",
   "mimetype": "text/x-python",
   "name": "python",
   "nbconvert_exporter": "python",
   "pygments_lexer": "ipython3",
   "version": "3.10.6"
  }
 },
 "nbformat": 4,
 "nbformat_minor": 5
}
